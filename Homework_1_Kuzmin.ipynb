{
 "cells": [
  {
   "cell_type": "markdown",
   "metadata": {},
   "source": [
    "# Домашнее задание №1\n",
    "\n",
    "## Постановка задачи\n",
    "\n",
    "1. Используется [датасет](https://archive.ics.uci.edu/ml/datasets/Credit+Approval) с данными об одобрении кредитов. Содержит бинарные, категориальные и числовые признаки; также содержит пропущенные данные.\n",
    "2. Задача - бинарная классификация, целевой признак - последний столбец (A16); показывает - одобрен кредит или нет.\n",
    "3. Функция потерь - бинарная кроссэнтропия (можно также попробовать Square hinge loss).\n",
    "4. Метрики оценки качества - accuracy (основная метрика), [ROC AUC score](https://scikit-learn.org/stable/modules/generated/sklearn.metrics.roc_auc_score.html), [confusion matrix](https://scikit-learn.org/stable/modules/generated/sklearn.metrics.confusion_matrix.html).\n",
    "\n",
    "### Бинарная кроссэнтропия\n",
    "\n",
    "$L(y, \\hat{y})=-\\frac{1}{N}\\sum_{i=0}^{N}(y\\cdot \\log(\\hat{y_{i}})+(1-y)\\cdot \\log(1-\\hat{y_{i}}))$,\n",
    "$y$ - целевое значение, $\\hat{y}$ - предсказанное значение.\n",
    "\n",
    "### Square hinge loss\n",
    "\n",
    "$L(y, \\hat{y})=-\\frac{1}{N}\\sum_{i=0}^{N}(max(0,1-y_{i}\\cdot\\hat{y_{i}})^{2})$"
   ]
  },
  {
   "cell_type": "code",
   "execution_count": 111,
   "metadata": {},
   "outputs": [],
   "source": [
    "import pandas as pd\n",
    "import time\n",
    "import numpy as np\n",
    "import sklearn.preprocessing, sklearn.metrics\n",
    "import matplotlib.pyplot as plt\n",
    "import sklearn.model_selection, sklearn.svm\n",
    "import sklearn.tree, sklearn.ensemble"
   ]
  },
  {
   "cell_type": "markdown",
   "metadata": {},
   "source": [
    "## Общая информация о датасете"
   ]
  },
  {
   "cell_type": "code",
   "execution_count": 112,
   "metadata": {},
   "outputs": [
    {
     "name": "stdout",
     "output_type": "stream",
     "text": [
      "\n",
      "\n",
      "1. Title: Credit Approval\n",
      "\n",
      "\n",
      "\n",
      "2. Sources: \n",
      "\n",
      "    (confidential)\n",
      "\n",
      "    Submitted by quinlan@cs.su.oz.au\n",
      "\n",
      "\n",
      "\n",
      "3.  Past Usage:\n",
      "\n",
      "\n",
      "\n",
      "    See Quinlan,\n",
      "\n",
      "    * \"Simplifying decision trees\", Int J Man-Machine Studies 27,\n",
      "\n",
      "      Dec 1987, pp. 221-234.\n",
      "\n",
      "    * \"C4.5: Programs for Machine Learning\", Morgan Kaufmann, Oct 1992\n",
      "\n",
      "  \n",
      "\n",
      "4.  Relevant Information:\n",
      "\n",
      "\n",
      "\n",
      "    This file concerns credit card applications.  All attribute names\n",
      "\n",
      "    and values have been changed to meaningless symbols to protect\n",
      "\n",
      "    confidentiality of the data.\n",
      "\n",
      "  \n",
      "\n",
      "    This dataset is interesting because there is a good mix of\n",
      "\n",
      "    attributes -- continuous, nominal with small numbers of\n",
      "\n",
      "    values, and nominal with larger numbers of values.  There\n",
      "\n",
      "    are also a few missing values.\n",
      "\n",
      "  \n",
      "\n",
      "5.  Number of Instances: 690\n",
      "\n",
      "\n",
      "\n",
      "6.  Number of Attributes: 15 + class attribute\n",
      "\n",
      "\n",
      "\n",
      "7.  Attribute Information:\n",
      "\n",
      "\n",
      "\n",
      "    A1:\tb, a.\n",
      "\n",
      "    A2:\tcontinuous.\n",
      "\n",
      "    A3:\tcontinuous.\n",
      "\n",
      "    A4:\tu, y, l, t.\n",
      "\n",
      "    A5:\tg, p, gg.\n",
      "\n",
      "    A6:\tc, d, cc, i, j, k, m, r, q, w, x, e, aa, ff.\n",
      "\n",
      "    A7:\tv, h, bb, j, n, z, dd, ff, o.\n",
      "\n",
      "    A8:\tcontinuous.\n",
      "\n",
      "    A9:\tt, f.\n",
      "\n",
      "    A10:\tt, f.\n",
      "\n",
      "    A11:\tcontinuous.\n",
      "\n",
      "    A12:\tt, f.\n",
      "\n",
      "    A13:\tg, p, s.\n",
      "\n",
      "    A14:\tcontinuous.\n",
      "\n",
      "    A15:\tcontinuous.\n",
      "\n",
      "    A16: +,-         (class attribute)\n",
      "\n",
      "\n",
      "\n",
      "8.  Missing Attribute Values:\n",
      "\n",
      "    37 cases (5%) have one or more missing values.  The missing\n",
      "\n",
      "    values from particular attributes are:\n",
      "\n",
      "\n",
      "\n",
      "    A1:  12\n",
      "\n",
      "    A2:  12\n",
      "\n",
      "    A4:   6\n",
      "\n",
      "    A5:   6\n",
      "\n",
      "    A6:   9\n",
      "\n",
      "    A7:   9\n",
      "\n",
      "    A14: 13\n",
      "\n",
      "\n",
      "\n",
      "9.  Class Distribution\n",
      "\n",
      "  \n",
      "\n",
      "    +: 307 (44.5%)\n",
      "\n",
      "    -: 383 (55.5%)\n",
      "\n",
      "\n",
      "\n"
     ]
    }
   ],
   "source": [
    "f = open('crx.names')\n",
    "for line in f:\n",
    "    print(line)"
   ]
  },
  {
   "cell_type": "code",
   "execution_count": 113,
   "metadata": {},
   "outputs": [
    {
     "data": {
      "text/html": [
       "<div>\n",
       "<style scoped>\n",
       "    .dataframe tbody tr th:only-of-type {\n",
       "        vertical-align: middle;\n",
       "    }\n",
       "\n",
       "    .dataframe tbody tr th {\n",
       "        vertical-align: top;\n",
       "    }\n",
       "\n",
       "    .dataframe thead th {\n",
       "        text-align: right;\n",
       "    }\n",
       "</style>\n",
       "<table border=\"1\" class=\"dataframe\">\n",
       "  <thead>\n",
       "    <tr style=\"text-align: right;\">\n",
       "      <th></th>\n",
       "      <th>0</th>\n",
       "      <th>1</th>\n",
       "      <th>2</th>\n",
       "      <th>3</th>\n",
       "      <th>4</th>\n",
       "      <th>5</th>\n",
       "      <th>6</th>\n",
       "      <th>7</th>\n",
       "      <th>8</th>\n",
       "      <th>9</th>\n",
       "      <th>10</th>\n",
       "      <th>11</th>\n",
       "      <th>12</th>\n",
       "      <th>13</th>\n",
       "      <th>14</th>\n",
       "      <th>15</th>\n",
       "    </tr>\n",
       "  </thead>\n",
       "  <tbody>\n",
       "    <tr>\n",
       "      <th>0</th>\n",
       "      <td>b</td>\n",
       "      <td>30.83</td>\n",
       "      <td>0.000</td>\n",
       "      <td>u</td>\n",
       "      <td>g</td>\n",
       "      <td>w</td>\n",
       "      <td>v</td>\n",
       "      <td>1.25</td>\n",
       "      <td>t</td>\n",
       "      <td>t</td>\n",
       "      <td>1</td>\n",
       "      <td>f</td>\n",
       "      <td>g</td>\n",
       "      <td>00202</td>\n",
       "      <td>0</td>\n",
       "      <td>+</td>\n",
       "    </tr>\n",
       "    <tr>\n",
       "      <th>1</th>\n",
       "      <td>a</td>\n",
       "      <td>58.67</td>\n",
       "      <td>4.460</td>\n",
       "      <td>u</td>\n",
       "      <td>g</td>\n",
       "      <td>q</td>\n",
       "      <td>h</td>\n",
       "      <td>3.04</td>\n",
       "      <td>t</td>\n",
       "      <td>t</td>\n",
       "      <td>6</td>\n",
       "      <td>f</td>\n",
       "      <td>g</td>\n",
       "      <td>00043</td>\n",
       "      <td>560</td>\n",
       "      <td>+</td>\n",
       "    </tr>\n",
       "    <tr>\n",
       "      <th>2</th>\n",
       "      <td>a</td>\n",
       "      <td>24.50</td>\n",
       "      <td>0.500</td>\n",
       "      <td>u</td>\n",
       "      <td>g</td>\n",
       "      <td>q</td>\n",
       "      <td>h</td>\n",
       "      <td>1.50</td>\n",
       "      <td>t</td>\n",
       "      <td>f</td>\n",
       "      <td>0</td>\n",
       "      <td>f</td>\n",
       "      <td>g</td>\n",
       "      <td>00280</td>\n",
       "      <td>824</td>\n",
       "      <td>+</td>\n",
       "    </tr>\n",
       "    <tr>\n",
       "      <th>3</th>\n",
       "      <td>b</td>\n",
       "      <td>27.83</td>\n",
       "      <td>1.540</td>\n",
       "      <td>u</td>\n",
       "      <td>g</td>\n",
       "      <td>w</td>\n",
       "      <td>v</td>\n",
       "      <td>3.75</td>\n",
       "      <td>t</td>\n",
       "      <td>t</td>\n",
       "      <td>5</td>\n",
       "      <td>t</td>\n",
       "      <td>g</td>\n",
       "      <td>00100</td>\n",
       "      <td>3</td>\n",
       "      <td>+</td>\n",
       "    </tr>\n",
       "    <tr>\n",
       "      <th>4</th>\n",
       "      <td>b</td>\n",
       "      <td>20.17</td>\n",
       "      <td>5.625</td>\n",
       "      <td>u</td>\n",
       "      <td>g</td>\n",
       "      <td>w</td>\n",
       "      <td>v</td>\n",
       "      <td>1.71</td>\n",
       "      <td>t</td>\n",
       "      <td>f</td>\n",
       "      <td>0</td>\n",
       "      <td>f</td>\n",
       "      <td>s</td>\n",
       "      <td>00120</td>\n",
       "      <td>0</td>\n",
       "      <td>+</td>\n",
       "    </tr>\n",
       "  </tbody>\n",
       "</table>\n",
       "</div>"
      ],
      "text/plain": [
       "  0      1      2  3  4  5  6     7  8  9   10 11 12     13   14 15\n",
       "0  b  30.83  0.000  u  g  w  v  1.25  t  t   1  f  g  00202    0  +\n",
       "1  a  58.67  4.460  u  g  q  h  3.04  t  t   6  f  g  00043  560  +\n",
       "2  a  24.50  0.500  u  g  q  h  1.50  t  f   0  f  g  00280  824  +\n",
       "3  b  27.83  1.540  u  g  w  v  3.75  t  t   5  t  g  00100    3  +\n",
       "4  b  20.17  5.625  u  g  w  v  1.71  t  f   0  f  s  00120    0  +"
      ]
     },
     "execution_count": 113,
     "metadata": {},
     "output_type": "execute_result"
    }
   ],
   "source": [
    "df = pd.read_csv('crx.data', sep=',', header=None)\n",
    "df.head(5)"
   ]
  },
  {
   "cell_type": "markdown",
   "metadata": {},
   "source": [
    "## Замена пропущенных данных (и замена категориальных данных)"
   ]
  },
  {
   "cell_type": "code",
   "execution_count": 114,
   "metadata": {},
   "outputs": [],
   "source": [
    "cols = list(df.columns)\n",
    "categoricalCols = [0, 3, 4, 5, 6, 8, 9, 10, 11, 12]\n",
    "realCols = [x for x in cols if x not in categoricalCols]\n",
    "dfX = df[cols[:-1]]\n",
    "dfY = df[cols[-1]]"
   ]
  },
  {
   "cell_type": "code",
   "execution_count": 115,
   "metadata": {},
   "outputs": [],
   "source": [
    "# создаем массив с местоположением пропущенных данных, формат (i, [j_1, ..., j_n])\n",
    "missingValueIndices = []\n",
    "for i in range(len(dfX)):\n",
    "    if True in set(dfX.iloc[i,:].str.contains('?', regex=False)):\n",
    "        buf = list(dfX.iloc[i,:].str.contains('?', regex=False))\n",
    "        xMissingIndices = [i for i, x in enumerate(buf) if x == True]\n",
    "        missingValueIndices.append((i, xMissingIndices))"
   ]
  },
  {
   "cell_type": "code",
   "execution_count": 116,
   "metadata": {},
   "outputs": [],
   "source": [
    "# таблица с исключенными строками с пропущенными значениями\n",
    "dfXFull = dfX.drop([x[0] for x in missingValueIndices])\n",
    "dfXFull = dfXFull.reset_index(drop=True)"
   ]
  },
  {
   "cell_type": "code",
   "execution_count": 117,
   "metadata": {},
   "outputs": [
    {
     "name": "stderr",
     "output_type": "stream",
     "text": [
      "c:\\users\\user\\appdata\\local\\programs\\python\\python37\\lib\\site-packages\\pandas\\core\\indexing.py:494: SettingWithCopyWarning: \n",
      "A value is trying to be set on a copy of a slice from a DataFrame.\n",
      "Try using .loc[row_indexer,col_indexer] = value instead\n",
      "\n",
      "See the caveats in the documentation: http://pandas.pydata.org/pandas-docs/stable/user_guide/indexing.html#returning-a-view-versus-a-copy\n",
      "  self.obj[item] = s\n"
     ]
    }
   ],
   "source": [
    "# избавляемся от категориальных признаков в dfXFull и в dfX\n",
    "# при этом сохраняем энкодеры только для dfXFull, т. к. в них нет ´?´\n",
    "encoders = []\n",
    "for col in categoricalCols:\n",
    "    buf = list(dfXFull[col])\n",
    "    le = sklearn.preprocessing.LabelEncoder()\n",
    "    le.fit(buf)\n",
    "    # print(le.classes_)\n",
    "    buf = le.transform(buf)\n",
    "    encoders.append(le)\n",
    "    dfX.loc[:, col] = dfX[col].replace('?', dfX[col][0])\n",
    "    bufX = list(dfX[col])\n",
    "    le = sklearn.preprocessing.LabelEncoder()\n",
    "    le.fit(bufX)\n",
    "    bufX = le.transform(bufX)\n",
    "    dfXFull.loc[:, col] = buf\n",
    "    dfX.loc[:, col] = bufX\n",
    "buf = list(dfY)\n",
    "le = sklearn.preprocessing.LabelEncoder()\n",
    "le.fit(buf)\n",
    "buf = le.transform(buf)\n",
    "dfY = buf\n",
    "encoders.append(le)"
   ]
  },
  {
   "cell_type": "code",
   "execution_count": 118,
   "metadata": {},
   "outputs": [],
   "source": [
    "# заменяем пропущенные значения значениями из векторов с наименьшим расстоянием между ними\n",
    "for x in missingValueIndices:\n",
    "    fullCols = [y for y in cols[:-1] if y not in x[1]]\n",
    "    bufDf = dfXFull[fullCols]\n",
    "    vec = list(dfX.iloc[x[0], fullCols])\n",
    "    dist = sklearn.metrics.pairwise.euclidean_distances([vec], np.array(bufDf))\n",
    "    simVecIndex = list(dist[0]).index(min(dist[0]))\n",
    "    for col in x[1]:\n",
    "        dfX.at[x[0], col] = dfXFull.iloc[simVecIndex, col]"
   ]
  },
  {
   "cell_type": "code",
   "execution_count": 119,
   "metadata": {},
   "outputs": [],
   "source": [
    "# создаем другую версию датафрейма, в которой пропущенные значения заменяются модой\n",
    "dfMod = df.copy()\n",
    "for col in cols:\n",
    "    if col in realCols[:-1]:\n",
    "        buf = dfMod[col].replace('?', 0)\n",
    "        buf = buf.astype('float64')\n",
    "        mode = float(buf.mean())\n",
    "    else:\n",
    "        mode = df[col].mode()[0]\n",
    "    if col not in [2, 7, 10, 14]:\n",
    "        dfMod[col] = dfMod[col].replace({'?': mode})\n",
    "fullCatCols = [0, 3, 4, 5, 6, 8, 9, 10, 11, 12, 15]\n",
    "for col in fullCatCols:\n",
    "    buf = list(dfMod[col])\n",
    "    le = sklearn.preprocessing.LabelEncoder()\n",
    "    le.fit(buf)\n",
    "    buf = le.transform(buf)\n",
    "    dfMod[col] = buf\n",
    "dfXmode = dfMod[cols[:-1]]\n",
    "dfYmode = dfMod[cols[-1]]"
   ]
  },
  {
   "cell_type": "markdown",
   "metadata": {},
   "source": [
    "## Нормализация данных"
   ]
  },
  {
   "cell_type": "code",
   "execution_count": 120,
   "metadata": {},
   "outputs": [
    {
     "name": "stderr",
     "output_type": "stream",
     "text": [
      "c:\\users\\user\\appdata\\local\\programs\\python\\python37\\lib\\site-packages\\pandas\\core\\indexing.py:494: SettingWithCopyWarning: \n",
      "A value is trying to be set on a copy of a slice from a DataFrame.\n",
      "Try using .loc[row_indexer,col_indexer] = value instead\n",
      "\n",
      "See the caveats in the documentation: http://pandas.pydata.org/pandas-docs/stable/user_guide/indexing.html#returning-a-view-versus-a-copy\n",
      "  self.obj[item] = s\n"
     ]
    }
   ],
   "source": [
    "means = []\n",
    "stds = []\n",
    "for col in realCols[:-1]:\n",
    "    bufCol = np.array(dfX.loc[:, col])\n",
    "    if col in realCols:\n",
    "        bufCol = list(map(float, bufCol))\n",
    "        dfX.loc[:, col] = bufCol\n",
    "    means.append(np.mean(bufCol))\n",
    "    stds.append(np.std(bufCol))\n",
    "    dfX.loc[:, col] = [(x - means[-1]) / stds[-1] for x in bufCol]"
   ]
  },
  {
   "cell_type": "code",
   "execution_count": 121,
   "metadata": {},
   "outputs": [
    {
     "name": "stdout",
     "output_type": "stream",
     "text": [
      "[31.72808695652174, 4.758724637681159, 2.223405797101449, 182.58840579710144, 1017.3855072463768] [11.974399653632007, 4.974554575891537, 3.344087470333537, 172.8550079651091, 5206.325792733279]\n"
     ]
    }
   ],
   "source": [
    "print(means, stds)"
   ]
  },
  {
   "cell_type": "code",
   "execution_count": 122,
   "metadata": {},
   "outputs": [],
   "source": [
    "meansMode = []\n",
    "stdsMode = []\n",
    "for col in realCols[:-1]:\n",
    "    bufCol = np.array(dfXmode.loc[:, col])\n",
    "    if col in realCols:\n",
    "        bufCol = list(map(float, bufCol))\n",
    "        dfXmode.loc[:, col] = bufCol\n",
    "    meansMode.append(np.mean(bufCol))\n",
    "    stdsMode.append(np.std(bufCol))\n",
    "    dfXmode.loc[:, col] = [(x - meansMode[-1]) / stdsMode[-1] for x in bufCol]"
   ]
  },
  {
   "cell_type": "code",
   "execution_count": 123,
   "metadata": {},
   "outputs": [
    {
     "name": "stdout",
     "output_type": "stream",
     "text": [
      "[31.55862306238185, 4.758724637681159, 2.223405797101449, 183.9494517958412, 1017.3855072463768] [11.844897757689514, 4.974554575891537, 3.344087470333537, 172.03512096994032, 5206.325792733279]\n"
     ]
    }
   ],
   "source": [
    "print(meansMode, stdsMode)"
   ]
  },
  {
   "cell_type": "markdown",
   "metadata": {},
   "source": [
    "## Разведочный анализ"
   ]
  },
  {
   "cell_type": "code",
   "execution_count": 124,
   "metadata": {},
   "outputs": [
    {
     "name": "stdout",
     "output_type": "stream",
     "text": [
      "Признак: 0\n",
      "Классы: [1, 0]\n",
      "Распределение: [68.99, 31.01]\n",
      "Признак: 3\n",
      "Классы: [1, 2, 0]\n",
      "Распределение: [75.94, 23.77, 0.29]\n",
      "Признак: 4\n",
      "Классы: [0, 2, 1]\n",
      "Распределение: [75.94, 23.77, 0.29]\n",
      "Признак: 5\n",
      "Классы: [12, 10, 9, 11, 2, 8, 1, 3, 13, 6, 4, 0, 5, 7]\n",
      "Распределение: [19.86, 11.59, 9.28, 8.55, 7.97, 7.97, 7.54, 6.09, 5.65, 5.51, 4.49, 3.62, 1.45, 0.43]\n",
      "Признак: 6\n",
      "Классы: [7, 3, 0, 2, 4, 8, 6, 1, 5]\n",
      "Распределение: [58.84, 20.0, 8.55, 8.55, 1.16, 1.16, 0.87, 0.58, 0.29]\n",
      "Признак: 8\n",
      "Классы: [1, 0]\n",
      "Распределение: [52.32, 47.68]\n",
      "Признак: 9\n",
      "Классы: [1, 0]\n",
      "Распределение: [57.25, 42.75]\n",
      "Признак: 10\n",
      "Классы: [1, 6, 0, 5, 7, 10, 3, 17, 2, 9, 8, 15, 11, 12, 21, 20, 4, 19, 22, 14, 16, 13, 18]\n",
      "Распределение: [57.25, 10.29, 6.52, 4.06, 3.33, 2.75, 2.61, 2.32, 2.17, 1.45, 1.45, 1.16, 1.16, 1.16, 0.58, 0.43, 0.29, 0.29, 0.14, 0.14, 0.14, 0.14, 0.14]\n",
      "Признак: 11\n",
      "Классы: [0, 1]\n",
      "Распределение: [54.2, 45.8]\n",
      "Признак: 12\n",
      "Классы: [0, 2, 1]\n",
      "Распределение: [90.58, 8.26, 1.16]\n"
     ]
    }
   ],
   "source": [
    "for col in categoricalCols:\n",
    "    print('Признак:', col)\n",
    "    print('Классы:', list(dfX[col].unique()))\n",
    "    print('Распределение:', [round(x * 100, 2) for x in list(dfX[col].value_counts(normalize=True))])"
   ]
  },
  {
   "cell_type": "code",
   "execution_count": 125,
   "metadata": {},
   "outputs": [
    {
     "data": {
      "image/png": "[encoded data removed]",
      "text/plain": [
       "<Figure size 576x1440 with 5 Axes>"
      ]
     },
     "metadata": {
      "needs_background": "light"
     },
     "output_type": "display_data"
    }
   ],
   "source": [
    "%matplotlib inline\n",
    "fig, ax = plt.subplots(len(realCols[:-1]), 1, figsize=(8, 20))\n",
    "for i in range(len(realCols[:-1])):\n",
    "    # print('Признак:', realCols[i])\n",
    "    buf = list(dfX[realCols[i]])\n",
    "    ax[i].hist(buf, bins=100)\n",
    "    ax[i].set_title('Признак:' + str(realCols[i]))"
   ]
  },
  {
   "cell_type": "code",
   "execution_count": 126,
   "metadata": {},
   "outputs": [
    {
     "name": "stdout",
     "output_type": "stream",
     "text": [
      "Целевой признак\n",
      "Классы: [0 1]\n",
      "Распределение: [44.49275362 55.50724638]\n"
     ]
    }
   ],
   "source": [
    "print('Целевой признак')\n",
    "# dfY\n",
    "unique, counts = np.unique(dfY, return_counts=True)\n",
    "print('Классы:', unique)\n",
    "print('Распределение:', counts / sum(counts) * 100)"
   ]
  },
  {
   "cell_type": "markdown",
   "metadata": {},
   "source": [
    "## Выбросы"
   ]
  },
  {
   "cell_type": "code",
   "execution_count": 127,
   "metadata": {},
   "outputs": [],
   "source": [
    "lower_arr = []\n",
    "upper_arr = []\n",
    "out_arr = []\n",
    "for col in realCols[:-1]:\n",
    "    buf = np.array(dfX[col])\n",
    "    q25, q75 = np.percentile(buf, 20), np.percentile(buf, 80)\n",
    "    cutoff = q75 - q25 * 1.5\n",
    "    lower, upper = q25 - cutoff, q75 + cutoff\n",
    "    lower_arr.append(lower)\n",
    "    upper_arr.append(upper)\n",
    "    outliers = [i for i in range(len(buf)) if dfX.iloc[i, col] < lower or dfX.iloc[i, col] > upper]\n",
    "    out_arr.append(outliers)"
   ]
  },
  {
   "cell_type": "code",
   "execution_count": 128,
   "metadata": {},
   "outputs": [
    {
     "name": "stdout",
     "output_type": "stream",
     "text": [
      "[-2.854183209461879, -2.9540508064258395, -1.9504898581500358, -3.0394410603463737, -0.4083644292558556] [2.787192467859216, 3.0876408021730635, 1.704739230663928, 2.7746132596763293, 0.13278217189974983]\n"
     ]
    }
   ],
   "source": [
    "print(lower_arr, upper_arr)"
   ]
  },
  {
   "cell_type": "code",
   "execution_count": 129,
   "metadata": {},
   "outputs": [
    {
     "name": "stdout",
     "output_type": "stream",
     "text": [
      "Число выбросов: 128\n"
     ]
    }
   ],
   "source": [
    "buf = []\n",
    "for x in out_arr:\n",
    "    buf = buf + x\n",
    "print('Число выбросов:', len(set(buf)))\n",
    "dfXFiltered = dfX.drop(buf)\n",
    "dfYFiltered = np.delete(dfY, buf)"
   ]
  },
  {
   "cell_type": "markdown",
   "metadata": {},
   "source": [
    "Из-за большого количества выбросов на следующем шаге обучим классификатор на данных без выбросов и на данных с выбросами. По результатам выберем параметры для фильтрации выбросов. Также такое решение обусловлено тем, что судя по графикам и по тому, что данные из области экономики, признаки (числовые) принадлежат распределению с тяжелым хвостом. Следовательно, возникает гипотеза, что данные лучше не выбрасывать."
   ]
  },
  {
   "cell_type": "markdown",
   "metadata": {},
   "source": [
    "## SVM"
   ]
  },
  {
   "cell_type": "code",
   "execution_count": 130,
   "metadata": {},
   "outputs": [],
   "source": [
    "# разбиваем на тестовую и тренировочную выборку\n",
    "X_train, X_test, y_train, y_test = sklearn.model_selection.train_test_split(dfX, dfY, test_size=0.2, random_state=10)\n",
    "# также делаем разбиение для данных без выбросов\n",
    "X_train_filt, X_test_filt, y_train_filt, \\\n",
    "y_test_filt = sklearn.model_selection.train_test_split(dfXFiltered,\n",
    "                                                       dfYFiltered, test_size=0.2, random_state=10)\n",
    "X_train_mode, X_test_mode, y_train_mode, \\\n",
    "y_test_mode = sklearn.model_selection.train_test_split(dfXmode,\n",
    "                                                       dfYmode, test_size=0.2, random_state=10)"
   ]
  },
  {
   "cell_type": "code",
   "execution_count": 131,
   "metadata": {},
   "outputs": [],
   "source": [
    "# функция для подбора параметров классификатора\n",
    "def chooseBestClf(X_train, X_test, y_train, y_test):\n",
    "    clf = sklearn.svm.SVC(kernel='linear', gamma='auto', probability=True, random_state=2)\n",
    "    params = []\n",
    "    result = []\n",
    "    params.append({'kernel': ['linear'], 'C': np.arange(1.5, 3.5, 0.2)})\n",
    "    params.append({'kernel': ['poly'], 'C': np.arange(0.1, 0.3, 0.05),\n",
    "                   'degree': np.arange(1, 4), 'coef0': np.arange(3, 4, 0.2)})\n",
    "    params.append({'kernel': ['rbf'], 'C': np.arange(0.6, 2.0, 0.2)})\n",
    "    params.append({'kernel': ['sigmoid'], 'C': np.arange(0.2, 0.6, 0.1), 'coef0': np.arange(0, 3, 0.5)})\n",
    "    for param in params:\n",
    "        gs = sklearn.model_selection.GridSearchCV(clf, param, scoring='roc_auc', cv=5, iid=False)\n",
    "        gs.fit(X_train, y_train)\n",
    "        clf.set_params(**gs.best_params_)\n",
    "        clf.fit(X_train, y_train)\n",
    "        y_pred = clf.predict(X_test)\n",
    "        y_pred_proba = clf.predict_proba(X_test)\n",
    "        acc = sklearn.metrics.accuracy_score(y_test, y_pred)\n",
    "        y_pred_proba = [y[1] for y in y_pred_proba]\n",
    "        roc_auc = sklearn.metrics.roc_auc_score(y_test, y_pred_proba)\n",
    "        result.append([gs.best_params_, acc, roc_auc])\n",
    "    return result"
   ]
  },
  {
   "cell_type": "code",
   "execution_count": 132,
   "metadata": {},
   "outputs": [],
   "source": [
    "start = time.time()\n",
    "res = chooseBestClf(X_train, X_test, y_train, y_test)\n",
    "end = time.time()\n",
    "svmCVTime = end - start"
   ]
  },
  {
   "cell_type": "code",
   "execution_count": 133,
   "metadata": {},
   "outputs": [
    {
     "data": {
      "text/plain": [
       "[[{'C': 2.5, 'kernel': 'linear'}, 0.9202898550724637, 0.9380252100840336],\n",
       " [{'C': 0.15000000000000002,\n",
       "   'coef0': 3.6000000000000005,\n",
       "   'degree': 2,\n",
       "   'kernel': 'poly'},\n",
       "  0.9202898550724637,\n",
       "  0.9518907563025211],\n",
       " [{'C': 1.2000000000000002, 'kernel': 'rbf'},\n",
       "  0.782608695652174,\n",
       "  0.8823529411764706],\n",
       " [{'C': 0.4000000000000001, 'coef0': 2.0, 'kernel': 'sigmoid'},\n",
       "  0.5072463768115942,\n",
       "  0.6605042016806724]]"
      ]
     },
     "execution_count": 133,
     "metadata": {},
     "output_type": "execute_result"
    }
   ],
   "source": [
    "# параметры классификатора на данных без фильтрации выбросов\n",
    "res"
   ]
  },
  {
   "cell_type": "code",
   "execution_count": 134,
   "metadata": {},
   "outputs": [],
   "source": [
    "res[1][0]['probability'] = True\n",
    "res[1][0]['random_state'] = 2\n",
    "res[1][0]['gamma'] = 'auto'\n",
    "resMetrics = []\n",
    "clf = sklearn.svm.SVC(**res[1][0])\n",
    "start = time.time()\n",
    "clf.fit(X_train, y_train)\n",
    "end = time.time()\n",
    "svmTime = end - start\n",
    "y_pred = clf.predict(X_test)\n",
    "matr = sklearn.metrics.confusion_matrix(y_test, y_pred)\n",
    "y_pred_proba = clf.predict_proba(X_test)\n",
    "acc = sklearn.metrics.accuracy_score(y_test, y_pred)\n",
    "y_pred_proba = [y[1] for y in y_pred_proba]\n",
    "roc_auc = sklearn.metrics.roc_auc_score(y_test, y_pred_proba)\n",
    "resMetrics.append([svmCVTime, svmTime, matr, acc, roc_auc, res[1][0]])"
   ]
  },
  {
   "cell_type": "code",
   "execution_count": 135,
   "metadata": {},
   "outputs": [
    {
     "name": "stdout",
     "output_type": "stream",
     "text": [
      "30.480681657791138 0.06804752349853516\n",
      "[[62  6]\n",
      " [ 5 65]] 0.9202898550724637 0.9518907563025211\n"
     ]
    }
   ],
   "source": [
    "print(svmCVTime, svmTime)\n",
    "print(matr, acc, roc_auc)"
   ]
  },
  {
   "cell_type": "code",
   "execution_count": 136,
   "metadata": {},
   "outputs": [],
   "source": [
    "start = time.time()\n",
    "res_filt = chooseBestClf(X_train_filt, X_test_filt, y_train_filt, y_test_filt)\n",
    "end = time.time()\n",
    "svmCVTime_filt = end - start"
   ]
  },
  {
   "cell_type": "code",
   "execution_count": 137,
   "metadata": {},
   "outputs": [
    {
     "data": {
      "text/plain": [
       "[[{'C': 1.9, 'kernel': 'linear'}, 0.8938053097345132, 0.9171408250355618],\n",
       " [{'C': 0.25000000000000006,\n",
       "   'coef0': 3.8000000000000007,\n",
       "   'degree': 2,\n",
       "   'kernel': 'poly'},\n",
       "  0.911504424778761,\n",
       "  0.9377667140825036],\n",
       " [{'C': 1.4000000000000004, 'kernel': 'rbf'},\n",
       "  0.8495575221238938,\n",
       "  0.9029160739687055],\n",
       " [{'C': 0.2, 'coef0': 2.5, 'kernel': 'sigmoid'},\n",
       "  0.672566371681416,\n",
       "  0.6625177809388335]]"
      ]
     },
     "execution_count": 137,
     "metadata": {},
     "output_type": "execute_result"
    }
   ],
   "source": [
    "# параметры классификатора на данных с фильтрацией выбросов\n",
    "res_filt"
   ]
  },
  {
   "cell_type": "code",
   "execution_count": 138,
   "metadata": {},
   "outputs": [],
   "source": [
    "res_filt[1][0]['probability'] = True\n",
    "res_filt[1][0]['random_state'] = 2\n",
    "res_filt[1][0]['gamma'] = 'auto'\n",
    "resMetrics_filt = []\n",
    "clf = sklearn.svm.SVC(**res_filt[1][0])\n",
    "start = time.time()\n",
    "clf.fit(X_train_filt, y_train_filt)\n",
    "end = time.time()\n",
    "svmTime_filt = end - start\n",
    "y_pred = clf.predict(X_test_filt)\n",
    "matr = sklearn.metrics.confusion_matrix(y_test_filt, y_pred)\n",
    "y_pred_proba = clf.predict_proba(X_test_filt)\n",
    "acc = sklearn.metrics.accuracy_score(y_test_filt, y_pred)\n",
    "y_pred_proba = [y[1] for y in y_pred_proba]\n",
    "roc_auc = sklearn.metrics.roc_auc_score(y_test_filt, y_pred_proba)\n",
    "resMetrics_filt.append([svmCVTime_filt, svmTime_filt, matr, acc, roc_auc, res_filt[1][0]])"
   ]
  },
  {
   "cell_type": "code",
   "execution_count": 139,
   "metadata": {},
   "outputs": [
    {
     "data": {
      "text/plain": [
       "[[24.866685152053833, 0.062062978744506836, array([[35,  2],\n",
       "         [ 8, 68]], dtype=int64), 0.911504424778761, 0.9377667140825036, {'C': 0.25000000000000006,\n",
       "   'coef0': 3.8000000000000007,\n",
       "   'degree': 2,\n",
       "   'kernel': 'poly',\n",
       "   'probability': True,\n",
       "   'random_state': 2,\n",
       "   'gamma': 'auto'}]]"
      ]
     },
     "execution_count": 139,
     "metadata": {},
     "output_type": "execute_result"
    }
   ],
   "source": [
    "resMetrics_filt"
   ]
  },
  {
   "cell_type": "code",
   "execution_count": 140,
   "metadata": {},
   "outputs": [
    {
     "name": "stdout",
     "output_type": "stream",
     "text": [
      "[[{'C': 1.5, 'kernel': 'linear'}, 0.9202898550724637, 0.9468487394957984], [{'C': 0.20000000000000004, 'coef0': 3.0, 'degree': 2, 'kernel': 'poly', 'probability': True, 'random_state': 2, 'gamma': 'auto'}, 0.927536231884058, 0.9495798319327731], [{'C': 1.4000000000000004, 'kernel': 'rbf'}, 0.7898550724637681, 0.8888655462184875], [{'C': 0.5000000000000001, 'coef0': 2.0, 'kernel': 'sigmoid'}, 0.5072463768115942, 0.6579831932773109]] [[29.89526081085205, 0.04603242874145508, array([[62,  6],\n",
      "       [ 4, 66]], dtype=int64), 0.927536231884058, 0.9495798319327731, {'C': 0.20000000000000004, 'coef0': 3.0, 'degree': 2, 'kernel': 'poly', 'probability': True, 'random_state': 2, 'gamma': 'auto'}]]\n"
     ]
    }
   ],
   "source": [
    "start = time.time()\n",
    "res_mode = chooseBestClf(X_train_mode, X_test_mode, y_train_mode, y_test_mode)\n",
    "end = time.time()\n",
    "svmCVTime_mode = end - start\n",
    "res_mode[1][0]['probability'] = True\n",
    "res_mode[1][0]['random_state'] = 2\n",
    "res_mode[1][0]['gamma'] = 'auto'\n",
    "resMetrics_mode = []\n",
    "clf = sklearn.svm.SVC(**res_mode[1][0])\n",
    "start = time.time()\n",
    "clf.fit(X_train_mode, y_train_mode)\n",
    "end = time.time()\n",
    "svmTime_mode = end - start\n",
    "y_pred = clf.predict(X_test_mode)\n",
    "matr = sklearn.metrics.confusion_matrix(y_test_mode, y_pred)\n",
    "y_pred_proba = clf.predict_proba(X_test_mode)\n",
    "acc = sklearn.metrics.accuracy_score(y_test_mode, y_pred)\n",
    "y_pred_proba = [y[1] for y in y_pred_proba]\n",
    "roc_auc = sklearn.metrics.roc_auc_score(y_test_mode, y_pred_proba)\n",
    "resMetrics_mode.append([svmCVTime_mode, svmTime_mode, matr, acc, roc_auc, res_mode[1][0]])\n",
    "print(res_mode, resMetrics_mode)"
   ]
  },
  {
   "cell_type": "markdown",
   "metadata": {},
   "source": [
    "Лучшие результаты классификатор показывает на данных без фильтрации выбросов, с полиномиальным ядром."
   ]
  },
  {
   "cell_type": "markdown",
   "metadata": {},
   "source": [
    "## Случайный лес"
   ]
  },
  {
   "cell_type": "markdown",
   "metadata": {},
   "source": [
    "Без фильтрации выбросов"
   ]
  },
  {
   "cell_type": "code",
   "execution_count": 141,
   "metadata": {},
   "outputs": [],
   "source": [
    "def chooseBestTree(X_train, X_test, y_train, y_test):\n",
    "    clf = sklearn.ensemble.RandomForestClassifier(n_estimators=100, random_state=2)\n",
    "    param = {'criterion': ['gini'], 'max_features': ['sqrt', 'log2'],\n",
    "             'n_estimators': np.arange(150, 401, 50)}\n",
    "    gs = sklearn.model_selection.GridSearchCV(clf, param, scoring='roc_auc', cv=5, iid=False)\n",
    "    gs.fit(X_train, y_train)\n",
    "    clf.set_params(**gs.best_params_)\n",
    "    clf.fit(X_train, y_train)\n",
    "    y_pred = clf.predict(X_test)\n",
    "    y_pred_proba = clf.predict_proba(X_test)\n",
    "    acc = sklearn.metrics.accuracy_score(y_test, y_pred)\n",
    "    y_pred_proba = [y[1] for y in y_pred_proba]\n",
    "    roc_auc = sklearn.metrics.roc_auc_score(y_test, y_pred_proba)\n",
    "    res = [gs.best_params_, acc, roc_auc]\n",
    "    return res"
   ]
  },
  {
   "cell_type": "code",
   "execution_count": 142,
   "metadata": {},
   "outputs": [],
   "source": [
    "start = time.time()\n",
    "res = chooseBestTree(X_train, X_test, y_train, y_test)\n",
    "end = time.time()\n",
    "rfcCVTime = end - start"
   ]
  },
  {
   "cell_type": "code",
   "execution_count": 143,
   "metadata": {},
   "outputs": [
    {
     "data": {
      "text/plain": [
       "[{'criterion': 'gini', 'max_features': 'sqrt', 'n_estimators': 300},\n",
       " 0.8840579710144928,\n",
       " 0.9545168067226891]"
      ]
     },
     "execution_count": 143,
     "metadata": {},
     "output_type": "execute_result"
    }
   ],
   "source": [
    "res"
   ]
  },
  {
   "cell_type": "code",
   "execution_count": 144,
   "metadata": {},
   "outputs": [],
   "source": [
    "res[0]['random_state'] = 2\n",
    "clf = sklearn.ensemble.RandomForestClassifier(**res[0])\n",
    "start = time.time()\n",
    "clf.fit(X_train, y_train)\n",
    "end = time.time()\n",
    "rfcTime = end - start\n",
    "y_pred = clf.predict(X_test)\n",
    "matr = sklearn.metrics.confusion_matrix(y_test, y_pred)\n",
    "y_pred_proba = clf.predict_proba(X_test)\n",
    "acc = sklearn.metrics.accuracy_score(y_test, y_pred)\n",
    "y_pred_proba = [y[1] for y in y_pred_proba]\n",
    "roc_auc = sklearn.metrics.roc_auc_score(y_test, y_pred_proba)\n",
    "resMetrics.append([rfcCVTime, rfcTime, matr, acc, roc_auc, res[0]])"
   ]
  },
  {
   "cell_type": "code",
   "execution_count": 145,
   "metadata": {},
   "outputs": [
    {
     "name": "stdout",
     "output_type": "stream",
     "text": [
      "[[30.480681657791138, 0.06804752349853516, array([[62,  6],\n",
      "       [ 5, 65]], dtype=int64), 0.9202898550724637, 0.9518907563025211, {'C': 0.15000000000000002, 'coef0': 3.6000000000000005, 'degree': 2, 'kernel': 'poly', 'probability': True, 'random_state': 2, 'gamma': 'auto'}], [33.60739326477051, 0.5704050064086914, array([[55, 13],\n",
      "       [ 3, 67]], dtype=int64), 0.8840579710144928, 0.9545168067226891, {'criterion': 'gini', 'max_features': 'sqrt', 'n_estimators': 300, 'random_state': 2}]]\n"
     ]
    }
   ],
   "source": [
    "print(resMetrics)"
   ]
  },
  {
   "cell_type": "markdown",
   "metadata": {},
   "source": [
    "С фильтрацией выбросов"
   ]
  },
  {
   "cell_type": "code",
   "execution_count": 146,
   "metadata": {},
   "outputs": [],
   "source": [
    "def chooseBestTree(X_train, X_test, y_train, y_test):\n",
    "    clf = sklearn.ensemble.RandomForestClassifier(n_estimators=100, random_state=2)\n",
    "    param = {'criterion': ['gini'], 'max_features': [\"sqrt\", \"log2\"],\n",
    "             'n_estimators': np.arange(250, 501, 50)}\n",
    "    gs = sklearn.model_selection.GridSearchCV(clf, param, scoring='roc_auc', cv=5, iid=False)\n",
    "    gs.fit(X_train, y_train)\n",
    "    clf.set_params(**gs.best_params_)\n",
    "    clf.fit(X_train, y_train)\n",
    "    y_pred = clf.predict(X_test)\n",
    "    y_pred_proba = clf.predict_proba(X_test)\n",
    "    acc = sklearn.metrics.accuracy_score(y_test, y_pred)\n",
    "    y_pred_proba = [y[1] for y in y_pred_proba]\n",
    "    roc_auc = sklearn.metrics.roc_auc_score(y_test, y_pred_proba)\n",
    "    res = [gs.best_params_, acc, roc_auc]\n",
    "    return res"
   ]
  },
  {
   "cell_type": "code",
   "execution_count": 147,
   "metadata": {},
   "outputs": [
    {
     "name": "stdout",
     "output_type": "stream",
     "text": [
      "[{'criterion': 'gini', 'max_features': 'sqrt', 'n_estimators': 350}, 0.8938053097345132, 0.9580369843527738] 42.929511308670044\n"
     ]
    }
   ],
   "source": [
    "start = time.time()\n",
    "res = chooseBestTree(X_train_filt, X_test_filt, y_train_filt, y_test_filt)\n",
    "end = time.time()\n",
    "rfcCVTime_filt = end - start\n",
    "print(res, rfcCVTime_filt)"
   ]
  },
  {
   "cell_type": "code",
   "execution_count": 148,
   "metadata": {},
   "outputs": [],
   "source": [
    "res[0]['random_state'] = 2\n",
    "# resMetrics_filt = []\n",
    "clf = sklearn.ensemble.RandomForestClassifier(**res[0])\n",
    "start = time.time()\n",
    "clf.fit(X_train_filt, y_train_filt)\n",
    "end = time.time()\n",
    "rfcTime_filt = end - start\n",
    "y_pred = clf.predict(X_test_filt)\n",
    "matr = sklearn.metrics.confusion_matrix(y_test_filt, y_pred)\n",
    "y_pred_proba = clf.predict_proba(X_test_filt)\n",
    "acc = sklearn.metrics.accuracy_score(y_test_filt, y_pred)\n",
    "y_pred_proba = [y[1] for y in y_pred_proba]\n",
    "roc_auc = sklearn.metrics.roc_auc_score(y_test_filt, y_pred_proba)\n",
    "resMetrics_filt.append([rfcCVTime_filt, rfcTime_filt, matr, acc, roc_auc, res[0]])"
   ]
  },
  {
   "cell_type": "markdown",
   "metadata": {},
   "source": [
    "Заполнение пропусков модой"
   ]
  },
  {
   "cell_type": "code",
   "execution_count": 149,
   "metadata": {},
   "outputs": [
    {
     "name": "stdout",
     "output_type": "stream",
     "text": [
      "{'criterion': 'gini', 'max_features': 'sqrt', 'n_estimators': 400, 'random_state': 2} [44.37853980064392, 0.740515947341919, array([[56, 12],\n",
      "       [ 3, 67]], dtype=int64), 0.8913043478260869, 0.9555672268907562, {'criterion': 'gini', 'max_features': 'sqrt', 'n_estimators': 400, 'random_state': 2}]\n"
     ]
    }
   ],
   "source": [
    "start = time.time()\n",
    "res_mode = chooseBestTree(X_train_mode, X_test_mode, y_train_mode, y_test_mode)\n",
    "end = time.time()\n",
    "rfcCVTime_mode = end - start\n",
    "res_mode[0]['random_state'] = 2\n",
    "clf = sklearn.ensemble.RandomForestClassifier(**res_mode[0])\n",
    "start = time.time()\n",
    "clf.fit(X_train_mode, y_train_mode)\n",
    "end = time.time()\n",
    "rfcTime_mode = end - start\n",
    "y_pred = clf.predict(X_test_mode)\n",
    "matr = sklearn.metrics.confusion_matrix(y_test_mode, y_pred)\n",
    "y_pred_proba = clf.predict_proba(X_test_mode)\n",
    "acc = sklearn.metrics.accuracy_score(y_test_mode, y_pred)\n",
    "y_pred_proba = [y[1] for y in y_pred_proba]\n",
    "roc_auc = sklearn.metrics.roc_auc_score(y_test_mode, y_pred_proba)\n",
    "resMetrics_mode.append([rfcCVTime_mode, rfcTime_mode, matr, acc, roc_auc, res_mode[0]])\n",
    "print(res_mode[0], resMetrics_mode[-1])"
   ]
  },
  {
   "cell_type": "markdown",
   "metadata": {},
   "source": [
    "## AdaBoost"
   ]
  },
  {
   "cell_type": "markdown",
   "metadata": {},
   "source": [
    "Без фильтрации выбросов"
   ]
  },
  {
   "cell_type": "code",
   "execution_count": 150,
   "metadata": {},
   "outputs": [],
   "source": [
    "def chooseBestParams(X_train, X_test, y_train, y_test):\n",
    "    clf = sklearn.ensemble.AdaBoostClassifier(learning_rate=0.9, random_state=2)\n",
    "    est1 = sklearn.tree.DecisionTreeClassifier(max_depth=10, random_state=2)\n",
    "    est2 = sklearn.svm.SVC(kernel='poly', degree=2, gamma='auto', probability=True)\n",
    "    param = {'base_estimator': [est1], 'base_estimator__max_depth': np.arange(5, 9),\n",
    "             'base_estimator__max_features': range(3, 8, 2),\n",
    "             'learning_rate': np.arange(0.8, 0.92, 0.02), 'n_estimators': np.arange(130, 181, 10)}\n",
    "    gs = sklearn.model_selection.GridSearchCV(clf, param, scoring='roc_auc', cv=5, iid=False)\n",
    "    gs.fit(X_train, y_train)\n",
    "    clf.set_params(**gs.best_params_)\n",
    "    clf.fit(X_train, y_train)\n",
    "    y_pred = clf.predict(X_test)\n",
    "    y_pred_proba = clf.predict_proba(X_test)\n",
    "    acc = sklearn.metrics.accuracy_score(y_test, y_pred)\n",
    "    y_pred_proba = [y[1] for y in y_pred_proba]\n",
    "    roc_auc = sklearn.metrics.roc_auc_score(y_test, y_pred_proba)\n",
    "    res = [gs.best_params_, acc, roc_auc]\n",
    "    return res"
   ]
  },
  {
   "cell_type": "code",
   "execution_count": 151,
   "metadata": {},
   "outputs": [
    {
     "name": "stdout",
     "output_type": "stream",
     "text": [
      "[{'base_estimator': DecisionTreeClassifier(class_weight=None, criterion='gini', max_depth=6,\n",
      "                       max_features=5, max_leaf_nodes=None,\n",
      "                       min_impurity_decrease=0.0, min_impurity_split=None,\n",
      "                       min_samples_leaf=1, min_samples_split=2,\n",
      "                       min_weight_fraction_leaf=0.0, presort=False,\n",
      "                       random_state=2, splitter='best'), 'base_estimator__max_depth': 6, 'base_estimator__max_features': 5, 'learning_rate': 0.8800000000000001, 'n_estimators': 160}, 0.8333333333333334, 0.9258403361344538]\n"
     ]
    }
   ],
   "source": [
    "start = time.time()\n",
    "res = chooseBestParams(X_train, X_test, y_train, y_test)\n",
    "end = time.time()\n",
    "abcCVTime = end - start\n",
    "print(res)"
   ]
  },
  {
   "cell_type": "code",
   "execution_count": 152,
   "metadata": {},
   "outputs": [
    {
     "name": "stdout",
     "output_type": "stream",
     "text": [
      "823.5769817829132\n"
     ]
    }
   ],
   "source": [
    "print(abcCVTime)"
   ]
  },
  {
   "cell_type": "code",
   "execution_count": 153,
   "metadata": {},
   "outputs": [],
   "source": [
    "res[0]['random_state'] = 2\n",
    "# buf = res[0].copy()\n",
    "del res[0]['base_estimator__max_depth']\n",
    "del res[0]['base_estimator__max_features']\n",
    "clf = sklearn.ensemble.AdaBoostClassifier(**res[0])\n",
    "start = time.time()\n",
    "clf.fit(X_train, y_train)\n",
    "end = time.time()\n",
    "abcTime = end - start\n",
    "y_pred = clf.predict(X_test)\n",
    "matr = sklearn.metrics.confusion_matrix(y_test, y_pred)\n",
    "y_pred_proba = clf.predict_proba(X_test)\n",
    "acc = sklearn.metrics.accuracy_score(y_test, y_pred)\n",
    "y_pred_proba = [y[1] for y in y_pred_proba]\n",
    "roc_auc = sklearn.metrics.roc_auc_score(y_test, y_pred_proba)\n",
    "resMetrics.append([abcCVTime, abcTime, matr, acc, roc_auc, res[0]])"
   ]
  },
  {
   "cell_type": "code",
   "execution_count": 154,
   "metadata": {},
   "outputs": [
    {
     "name": "stdout",
     "output_type": "stream",
     "text": [
      "[[30.480681657791138, 0.06804752349853516, array([[62,  6],\n",
      "       [ 5, 65]], dtype=int64), 0.9202898550724637, 0.9518907563025211, {'C': 0.15000000000000002, 'coef0': 3.6000000000000005, 'degree': 2, 'kernel': 'poly', 'probability': True, 'random_state': 2, 'gamma': 'auto'}], [33.60739326477051, 0.5704050064086914, array([[55, 13],\n",
      "       [ 3, 67]], dtype=int64), 0.8840579710144928, 0.9545168067226891, {'criterion': 'gini', 'max_features': 'sqrt', 'n_estimators': 300, 'random_state': 2}], [823.5769817829132, 0.4092867374420166, array([[48, 20],\n",
      "       [ 3, 67]], dtype=int64), 0.8333333333333334, 0.9258403361344538, {'base_estimator': DecisionTreeClassifier(class_weight=None, criterion='gini', max_depth=6,\n",
      "                       max_features=5, max_leaf_nodes=None,\n",
      "                       min_impurity_decrease=0.0, min_impurity_split=None,\n",
      "                       min_samples_leaf=1, min_samples_split=2,\n",
      "                       min_weight_fraction_leaf=0.0, presort=False,\n",
      "                       random_state=2, splitter='best'), 'learning_rate': 0.8800000000000001, 'n_estimators': 160, 'random_state': 2}]]\n"
     ]
    }
   ],
   "source": [
    "print(resMetrics)"
   ]
  },
  {
   "cell_type": "markdown",
   "metadata": {},
   "source": [
    "С фильтрацией выбросов"
   ]
  },
  {
   "cell_type": "code",
   "execution_count": 155,
   "metadata": {},
   "outputs": [],
   "source": [
    "def chooseBestParams(X_train, X_test, y_train, y_test):\n",
    "    clf = sklearn.ensemble.AdaBoostClassifier(learning_rate=0.9, random_state=2)\n",
    "    est1 = sklearn.tree.DecisionTreeClassifier(max_depth=10, random_state=2)\n",
    "    est2 = sklearn.svm.SVC(kernel='poly', degree=2, gamma='auto', probability=True)\n",
    "    param = {'base_estimator': [est1], 'base_estimator__max_depth': np.arange(7, 10),\n",
    "             'base_estimator__max_features': range(1, 5),\n",
    "             'learning_rate': np.arange(0.8, 0.92, 0.02), 'n_estimators': np.arange(50, 91, 10)}\n",
    "    gs = sklearn.model_selection.GridSearchCV(clf, param, scoring='roc_auc', cv=5, iid=False)\n",
    "    gs.fit(X_train, y_train)\n",
    "    clf.set_params(**gs.best_params_)\n",
    "    clf.fit(X_train, y_train)\n",
    "    y_pred = clf.predict(X_test)\n",
    "    y_pred_proba = clf.predict_proba(X_test)\n",
    "    acc = sklearn.metrics.accuracy_score(y_test, y_pred)\n",
    "    y_pred_proba = [y[1] for y in y_pred_proba]\n",
    "    roc_auc = sklearn.metrics.roc_auc_score(y_test, y_pred_proba)\n",
    "    res = [gs.best_params_, acc, roc_auc]\n",
    "    return res"
   ]
  },
  {
   "cell_type": "code",
   "execution_count": 156,
   "metadata": {},
   "outputs": [
    {
     "name": "stdout",
     "output_type": "stream",
     "text": [
      "[{'base_estimator': DecisionTreeClassifier(class_weight=None, criterion='gini', max_depth=8,\n",
      "                       max_features=3, max_leaf_nodes=None,\n",
      "                       min_impurity_decrease=0.0, min_impurity_split=None,\n",
      "                       min_samples_leaf=1, min_samples_split=2,\n",
      "                       min_weight_fraction_leaf=0.0, presort=False,\n",
      "                       random_state=2, splitter='best'), 'base_estimator__max_depth': 8, 'base_estimator__max_features': 3, 'learning_rate': 0.8800000000000001, 'n_estimators': 80}, 0.8584070796460177, 0.933854907539118]\n"
     ]
    }
   ],
   "source": [
    "start = time.time()\n",
    "res = chooseBestParams(X_train_filt, X_test_filt, y_train_filt, y_test_filt)\n",
    "end = time.time()\n",
    "abcCVTime_filt = end - start\n",
    "print(res)"
   ]
  },
  {
   "cell_type": "code",
   "execution_count": 157,
   "metadata": {},
   "outputs": [],
   "source": [
    "res[0]['random_state'] = 2\n",
    "del res[0]['base_estimator__max_depth']\n",
    "del res[0]['base_estimator__max_features']\n",
    "clf = sklearn.ensemble.AdaBoostClassifier(**res[0])\n",
    "start = time.time()\n",
    "clf.fit(X_train_filt, y_train_filt)\n",
    "end = time.time()\n",
    "abcTime_filt = end - start\n",
    "y_pred = clf.predict(X_test_filt)\n",
    "matr = sklearn.metrics.confusion_matrix(y_test_filt, y_pred)\n",
    "y_pred_proba = clf.predict_proba(X_test_filt)\n",
    "acc = sklearn.metrics.accuracy_score(y_test_filt, y_pred)\n",
    "y_pred_proba = [y[1] for y in y_pred_proba]\n",
    "roc_auc = sklearn.metrics.roc_auc_score(y_test_filt, y_pred_proba)\n",
    "resMetrics_filt.append([abcCVTime_filt, abcTime_filt, matr, acc, roc_auc, res[0]])"
   ]
  },
  {
   "cell_type": "markdown",
   "metadata": {},
   "source": [
    "С пропусками, заполненными модой"
   ]
  },
  {
   "cell_type": "code",
   "execution_count": 158,
   "metadata": {},
   "outputs": [],
   "source": [
    "def chooseBestParams(X_train, X_test, y_train, y_test):\n",
    "    clf = sklearn.ensemble.AdaBoostClassifier(learning_rate=0.9, random_state=2)\n",
    "    est1 = sklearn.tree.DecisionTreeClassifier(max_depth=10, random_state=2)\n",
    "    est2 = sklearn.svm.SVC(kernel='poly', degree=2, gamma='auto', probability=True)\n",
    "    param = {'base_estimator': [est1], 'base_estimator__max_depth': np.arange(3, 9),\n",
    "             'base_estimator__max_features': range(1, 5),\n",
    "             'learning_rate': np.arange(0.8, 0.92, 0.02), 'n_estimators': np.arange(50, 91, 10)}\n",
    "    gs = sklearn.model_selection.GridSearchCV(clf, param, scoring='roc_auc', cv=5, iid=False)\n",
    "    gs.fit(X_train, y_train)\n",
    "    clf.set_params(**gs.best_params_)\n",
    "    clf.fit(X_train, y_train)\n",
    "    y_pred = clf.predict(X_test)\n",
    "    y_pred_proba = clf.predict_proba(X_test)\n",
    "    acc = sklearn.metrics.accuracy_score(y_test, y_pred)\n",
    "    y_pred_proba = [y[1] for y in y_pred_proba]\n",
    "    roc_auc = sklearn.metrics.roc_auc_score(y_test, y_pred_proba)\n",
    "    res = [gs.best_params_, acc, roc_auc]\n",
    "    return res"
   ]
  },
  {
   "cell_type": "code",
   "execution_count": 159,
   "metadata": {},
   "outputs": [
    {
     "name": "stdout",
     "output_type": "stream",
     "text": [
      "[{'base_estimator': DecisionTreeClassifier(class_weight=None, criterion='gini', max_depth=6,\n",
      "                       max_features=4, max_leaf_nodes=None,\n",
      "                       min_impurity_decrease=0.0, min_impurity_split=None,\n",
      "                       min_samples_leaf=1, min_samples_split=2,\n",
      "                       min_weight_fraction_leaf=0.0, presort=False,\n",
      "                       random_state=2, splitter='best'), 'learning_rate': 0.9000000000000001, 'n_estimators': 80, 'random_state': 2}, 0.782608695652174, 0.9119747899159664] [613.9499917030334, 0.18613147735595703, array([[44, 24],\n",
      "       [ 6, 64]], dtype=int64), 0.782608695652174, 0.9119747899159664, {'base_estimator': DecisionTreeClassifier(class_weight=None, criterion='gini', max_depth=6,\n",
      "                       max_features=4, max_leaf_nodes=None,\n",
      "                       min_impurity_decrease=0.0, min_impurity_split=None,\n",
      "                       min_samples_leaf=1, min_samples_split=2,\n",
      "                       min_weight_fraction_leaf=0.0, presort=False,\n",
      "                       random_state=2, splitter='best'), 'learning_rate': 0.9000000000000001, 'n_estimators': 80, 'random_state': 2}]\n"
     ]
    }
   ],
   "source": [
    "start = time.time()\n",
    "res = chooseBestParams(X_train_mode, X_test_mode, y_train_mode, y_test_mode)\n",
    "end = time.time()\n",
    "abcCVTime_mode = end - start\n",
    "res[0]['random_state'] = 2\n",
    "del res[0]['base_estimator__max_depth']\n",
    "del res[0]['base_estimator__max_features']\n",
    "clf = sklearn.ensemble.AdaBoostClassifier(**res[0])\n",
    "start = time.time()\n",
    "clf.fit(X_train_mode, y_train_mode)\n",
    "end = time.time()\n",
    "abcTime_mode = end - start\n",
    "y_pred = clf.predict(X_test_mode)\n",
    "matr = sklearn.metrics.confusion_matrix(y_test_mode, y_pred)\n",
    "y_pred_proba = clf.predict_proba(X_test_mode)\n",
    "acc = sklearn.metrics.accuracy_score(y_test_mode, y_pred)\n",
    "y_pred_proba = [y[1] for y in y_pred_proba]\n",
    "roc_auc = sklearn.metrics.roc_auc_score(y_test_mode, y_pred_proba)\n",
    "resMetrics_mode.append([abcCVTime_mode, abcTime_mode, matr, acc, roc_auc, res[0]])\n",
    "print(res, resMetrics_mode[-1])"
   ]
  },
  {
   "cell_type": "markdown",
   "metadata": {},
   "source": [
    "## XGBoost"
   ]
  },
  {
   "cell_type": "code",
   "execution_count": 160,
   "metadata": {},
   "outputs": [],
   "source": [
    "from xgboost import XGBClassifier"
   ]
  },
  {
   "cell_type": "code",
   "execution_count": 161,
   "metadata": {},
   "outputs": [],
   "source": [
    "def chooseBestParamsXGB(X_train, X_test, y_train, y_test):\n",
    "    clf = XGBClassifier(random_state=2)\n",
    "    param = {'max_depth': [2, 3, 4, 5], 'learning_rate': [0.1, 0.05, 0.01],\n",
    "             'n_estimators': [50, 100, 150]}\n",
    "    gs = sklearn.model_selection.GridSearchCV(clf, param, scoring='roc_auc', cv=5, iid=False)\n",
    "    gs.fit(X_train, y_train)\n",
    "    clf.set_params(**gs.best_params_)\n",
    "    clf.fit(X_train, y_train)\n",
    "    y_pred = clf.predict(X_test)\n",
    "    y_pred_proba = clf.predict_proba(X_test)\n",
    "    acc = sklearn.metrics.accuracy_score(y_test, y_pred)\n",
    "    y_pred_proba = [y[1] for y in y_pred_proba]\n",
    "    roc_auc = sklearn.metrics.roc_auc_score(y_test, y_pred_proba)\n",
    "    res = [gs.best_params_, acc, roc_auc]\n",
    "    return res"
   ]
  },
  {
   "cell_type": "markdown",
   "metadata": {},
   "source": [
    "Без фильтрации выбросов"
   ]
  },
  {
   "cell_type": "code",
   "execution_count": 162,
   "metadata": {},
   "outputs": [
    {
     "name": "stdout",
     "output_type": "stream",
     "text": [
      "[{'learning_rate': 0.1, 'max_depth': 2, 'n_estimators': 100, 'random_state': 2}, 0.8405797101449275, 0.9455882352941176] [15.04369044303894, 0.06004214286804199, array([[52, 16],\n",
      "       [ 6, 64]], dtype=int64), 0.8405797101449275, 0.9455882352941176, {'learning_rate': 0.1, 'max_depth': 2, 'n_estimators': 100, 'random_state': 2}]\n"
     ]
    }
   ],
   "source": [
    "start = time.time()\n",
    "res = chooseBestParamsXGB(X_train, X_test, y_train, y_test)\n",
    "end = time.time()\n",
    "xgbCVTime = end - start\n",
    "res[0]['random_state'] = 2\n",
    "clf = XGBClassifier(**res[0])\n",
    "start = time.time()\n",
    "clf.fit(X_train, y_train)\n",
    "end = time.time()\n",
    "xgbTime = end - start\n",
    "y_pred = clf.predict(X_test)\n",
    "matr = sklearn.metrics.confusion_matrix(y_test, y_pred)\n",
    "y_pred_proba = clf.predict_proba(X_test)\n",
    "acc = sklearn.metrics.accuracy_score(y_test, y_pred)\n",
    "y_pred_proba = [y[1] for y in y_pred_proba]\n",
    "roc_auc = sklearn.metrics.roc_auc_score(y_test, y_pred_proba)\n",
    "resMetrics.append([xgbCVTime, xgbTime, matr, acc, roc_auc, res[0]])\n",
    "print(res, resMetrics[-1])"
   ]
  },
  {
   "cell_type": "markdown",
   "metadata": {},
   "source": [
    "С фильтрацией выбросов"
   ]
  },
  {
   "cell_type": "code",
   "execution_count": 163,
   "metadata": {},
   "outputs": [],
   "source": [
    "def chooseBestParamsXGB(X_train, X_test, y_train, y_test):\n",
    "    clf = XGBClassifier(random_state=2)\n",
    "    param = {'max_depth': [3, 4, 5], 'learning_rate': [0.1, 0.01, 0.001],\n",
    "             'n_estimators': [200, 250, 300]}\n",
    "    gs = sklearn.model_selection.GridSearchCV(clf, param, scoring='roc_auc', cv=5, iid=False)\n",
    "    gs.fit(X_train, y_train)\n",
    "    clf.set_params(**gs.best_params_)\n",
    "    clf.fit(X_train, y_train)\n",
    "    y_pred = clf.predict(X_test)\n",
    "    y_pred_proba = clf.predict_proba(X_test)\n",
    "    acc = sklearn.metrics.accuracy_score(y_test, y_pred)\n",
    "    y_pred_proba = [y[1] for y in y_pred_proba]\n",
    "    roc_auc = sklearn.metrics.roc_auc_score(y_test, y_pred_proba)\n",
    "    res = [gs.best_params_, acc, roc_auc]\n",
    "    return res"
   ]
  },
  {
   "cell_type": "code",
   "execution_count": 164,
   "metadata": {},
   "outputs": [
    {
     "name": "stdout",
     "output_type": "stream",
     "text": [
      "[{'learning_rate': 0.01, 'max_depth': 4, 'n_estimators': 250, 'random_state': 2}, 0.911504424778761, 0.9688833570412518] [23.966004610061646, 0.24717354774475098, array([[32,  5],\n",
      "       [ 5, 71]], dtype=int64), 0.911504424778761, 0.9688833570412518, {'learning_rate': 0.01, 'max_depth': 4, 'n_estimators': 250, 'random_state': 2}]\n"
     ]
    }
   ],
   "source": [
    "start = time.time()\n",
    "res = chooseBestParamsXGB(X_train_filt, X_test_filt, y_train_filt, y_test_filt)\n",
    "end = time.time()\n",
    "xgbCVTime_filt = end - start\n",
    "res[0]['random_state'] = 2\n",
    "clf = XGBClassifier(**res[0])\n",
    "start = time.time()\n",
    "clf.fit(X_train_filt, y_train_filt)\n",
    "end = time.time()\n",
    "xgbTime_filt = end - start\n",
    "y_pred = clf.predict(X_test_filt)\n",
    "matr = sklearn.metrics.confusion_matrix(y_test_filt, y_pred)\n",
    "y_pred_proba = clf.predict_proba(X_test_filt)\n",
    "acc = sklearn.metrics.accuracy_score(y_test_filt, y_pred)\n",
    "y_pred_proba = [y[1] for y in y_pred_proba]\n",
    "roc_auc = sklearn.metrics.roc_auc_score(y_test_filt, y_pred_proba)\n",
    "resMetrics_filt.append([xgbCVTime_filt, xgbTime_filt, matr, acc, roc_auc, res[0]])\n",
    "print(res, resMetrics_filt[-1])"
   ]
  },
  {
   "cell_type": "markdown",
   "metadata": {},
   "source": [
    "С пропусками, заполненными модой"
   ]
  },
  {
   "cell_type": "code",
   "execution_count": 165,
   "metadata": {},
   "outputs": [],
   "source": [
    "def chooseBestParamsXGB(X_train, X_test, y_train, y_test):\n",
    "    clf = XGBClassifier(random_state=2)\n",
    "    param = {'max_depth': [1, 2, 3], 'learning_rate': [0.1, 0.01, 0.001],\n",
    "             'n_estimators': np.arange(700, 801, 50)}\n",
    "    gs = sklearn.model_selection.GridSearchCV(clf, param, scoring='roc_auc', cv=5, iid=False)\n",
    "    gs.fit(X_train, y_train)\n",
    "    clf.set_params(**gs.best_params_)\n",
    "    clf.fit(X_train, y_train)\n",
    "    y_pred = clf.predict(X_test)\n",
    "    y_pred_proba = clf.predict_proba(X_test)\n",
    "    acc = sklearn.metrics.accuracy_score(y_test, y_pred)\n",
    "    y_pred_proba = [y[1] for y in y_pred_proba]\n",
    "    roc_auc = sklearn.metrics.roc_auc_score(y_test, y_pred_proba)\n",
    "    res = [gs.best_params_, acc, roc_auc]\n",
    "    return res"
   ]
  },
  {
   "cell_type": "code",
   "execution_count": 166,
   "metadata": {},
   "outputs": [
    {
     "name": "stdout",
     "output_type": "stream",
     "text": [
      "[{'learning_rate': 0.01, 'max_depth': 2, 'n_estimators': 750, 'random_state': 2}, 0.8623188405797102, 0.9527310924369747] [54.744436502456665, 0.45032238960266113, array([[54, 14],\n",
      "       [ 5, 65]], dtype=int64), 0.8623188405797102, 0.9527310924369747, {'learning_rate': 0.01, 'max_depth': 2, 'n_estimators': 750, 'random_state': 2}]\n"
     ]
    }
   ],
   "source": [
    "start = time.time()\n",
    "res = chooseBestParamsXGB(X_train_mode, X_test_mode, y_train_mode, y_test_mode)\n",
    "end = time.time()\n",
    "xgbCVTime_mode = end - start\n",
    "res[0]['random_state'] = 2\n",
    "clf = XGBClassifier(**res[0])\n",
    "start = time.time()\n",
    "clf.fit(X_train_mode, y_train_mode)\n",
    "end = time.time()\n",
    "xgbTime_mode = end - start\n",
    "y_pred = clf.predict(X_test_mode)\n",
    "matr = sklearn.metrics.confusion_matrix(y_test_mode, y_pred)\n",
    "y_pred_proba = clf.predict_proba(X_test_mode)\n",
    "acc = sklearn.metrics.accuracy_score(y_test_mode, y_pred)\n",
    "y_pred_proba = [y[1] for y in y_pred_proba]\n",
    "roc_auc = sklearn.metrics.roc_auc_score(y_test_mode, y_pred_proba)\n",
    "resMetrics_mode.append([xgbCVTime_mode, xgbTime_mode, matr, acc, roc_auc, res[0]])\n",
    "print(res, resMetrics_mode[-1])"
   ]
  },
  {
   "cell_type": "markdown",
   "metadata": {},
   "source": [
    "## Результаты (отчет)"
   ]
  },
  {
   "cell_type": "markdown",
   "metadata": {},
   "source": [
    "Конфигурация компьютера: Intel Core i5-4210U, 8GB RAM"
   ]
  },
  {
   "cell_type": "markdown",
   "metadata": {},
   "source": [
    "В следующей таблице представлены результаты использования SVM, RandomForest, AdaBoost, XGBoost на трех версиях датасета:\n",
    "1. без приставки к методу - датасет с пропусками, заполненными значениями из наиболее близкой по евклидову расстоянию строки;\n",
    "2. с приставкой Filt - аналогично пункту 1, но в данных дополнительно отфильтрованы выбросы;\n",
    "3. с приставкой Mode - пропущенные значения заполнялись модой для категориальных признаков и медианой для числовых."
   ]
  },
  {
   "cell_type": "code",
   "execution_count": 169,
   "metadata": {},
   "outputs": [
    {
     "data": {
      "text/html": [
       "<div>\n",
       "<style scoped>\n",
       "    .dataframe tbody tr th:only-of-type {\n",
       "        vertical-align: middle;\n",
       "    }\n",
       "\n",
       "    .dataframe tbody tr th {\n",
       "        vertical-align: top;\n",
       "    }\n",
       "\n",
       "    .dataframe thead th {\n",
       "        text-align: right;\n",
       "    }\n",
       "</style>\n",
       "<table border=\"1\" class=\"dataframe\">\n",
       "  <thead>\n",
       "    <tr style=\"text-align: right;\">\n",
       "      <th></th>\n",
       "      <th>Grid search time, s</th>\n",
       "      <th>Training time, s</th>\n",
       "      <th>Accuracy</th>\n",
       "      <th>ROC-AUC</th>\n",
       "      <th>Params</th>\n",
       "    </tr>\n",
       "  </thead>\n",
       "  <tbody>\n",
       "    <tr>\n",
       "      <th>SVM</th>\n",
       "      <td>30.4807</td>\n",
       "      <td>0.0680475</td>\n",
       "      <td>0.92029</td>\n",
       "      <td>0.951891</td>\n",
       "      <td>{'C': 0.15000000000000002, 'coef0': 3.60000000...</td>\n",
       "    </tr>\n",
       "    <tr>\n",
       "      <th>RandomForest</th>\n",
       "      <td>33.6074</td>\n",
       "      <td>0.570405</td>\n",
       "      <td>0.884058</td>\n",
       "      <td>0.954517</td>\n",
       "      <td>{'criterion': 'gini', 'max_features': 'sqrt', ...</td>\n",
       "    </tr>\n",
       "    <tr>\n",
       "      <th>AdaBoost</th>\n",
       "      <td>823.577</td>\n",
       "      <td>0.409287</td>\n",
       "      <td>0.833333</td>\n",
       "      <td>0.92584</td>\n",
       "      <td>{'base_estimator': DecisionTreeClassifier(clas...</td>\n",
       "    </tr>\n",
       "    <tr>\n",
       "      <th>XGBoost</th>\n",
       "      <td>15.0437</td>\n",
       "      <td>0.0600421</td>\n",
       "      <td>0.84058</td>\n",
       "      <td>0.945588</td>\n",
       "      <td>{'learning_rate': 0.1, 'max_depth': 2, 'n_esti...</td>\n",
       "    </tr>\n",
       "    <tr>\n",
       "      <th>SVMFilt</th>\n",
       "      <td>24.8667</td>\n",
       "      <td>0.062063</td>\n",
       "      <td>0.911504</td>\n",
       "      <td>0.937767</td>\n",
       "      <td>{'C': 0.25000000000000006, 'coef0': 3.80000000...</td>\n",
       "    </tr>\n",
       "    <tr>\n",
       "      <th>RandomForestFilt</th>\n",
       "      <td>42.9295</td>\n",
       "      <td>0.695492</td>\n",
       "      <td>0.893805</td>\n",
       "      <td>0.958037</td>\n",
       "      <td>{'criterion': 'gini', 'max_features': 'sqrt', ...</td>\n",
       "    </tr>\n",
       "    <tr>\n",
       "      <th>AdaBoostFilt</th>\n",
       "      <td>279.893</td>\n",
       "      <td>0.176127</td>\n",
       "      <td>0.858407</td>\n",
       "      <td>0.933855</td>\n",
       "      <td>{'base_estimator': DecisionTreeClassifier(clas...</td>\n",
       "    </tr>\n",
       "    <tr>\n",
       "      <th>XGBoostFilt</th>\n",
       "      <td>23.966</td>\n",
       "      <td>0.247174</td>\n",
       "      <td>0.911504</td>\n",
       "      <td>0.968883</td>\n",
       "      <td>{'learning_rate': 0.01, 'max_depth': 4, 'n_est...</td>\n",
       "    </tr>\n",
       "    <tr>\n",
       "      <th>SVMMode</th>\n",
       "      <td>29.8953</td>\n",
       "      <td>0.0460324</td>\n",
       "      <td>0.927536</td>\n",
       "      <td>0.94958</td>\n",
       "      <td>{'C': 0.20000000000000004, 'coef0': 3.0, 'degr...</td>\n",
       "    </tr>\n",
       "    <tr>\n",
       "      <th>RandomForestMode</th>\n",
       "      <td>44.3785</td>\n",
       "      <td>0.740516</td>\n",
       "      <td>0.891304</td>\n",
       "      <td>0.955567</td>\n",
       "      <td>{'criterion': 'gini', 'max_features': 'sqrt', ...</td>\n",
       "    </tr>\n",
       "    <tr>\n",
       "      <th>AdaBoostMode</th>\n",
       "      <td>613.95</td>\n",
       "      <td>0.186131</td>\n",
       "      <td>0.782609</td>\n",
       "      <td>0.911975</td>\n",
       "      <td>{'base_estimator': DecisionTreeClassifier(clas...</td>\n",
       "    </tr>\n",
       "    <tr>\n",
       "      <th>XGBoostMode</th>\n",
       "      <td>54.7444</td>\n",
       "      <td>0.450322</td>\n",
       "      <td>0.862319</td>\n",
       "      <td>0.952731</td>\n",
       "      <td>{'learning_rate': 0.01, 'max_depth': 2, 'n_est...</td>\n",
       "    </tr>\n",
       "  </tbody>\n",
       "</table>\n",
       "</div>"
      ],
      "text/plain": [
       "                 Grid search time, s Training time, s  Accuracy   ROC-AUC  \\\n",
       "SVM                          30.4807        0.0680475   0.92029  0.951891   \n",
       "RandomForest                 33.6074         0.570405  0.884058  0.954517   \n",
       "AdaBoost                     823.577         0.409287  0.833333   0.92584   \n",
       "XGBoost                      15.0437        0.0600421   0.84058  0.945588   \n",
       "SVMFilt                      24.8667         0.062063  0.911504  0.937767   \n",
       "RandomForestFilt             42.9295         0.695492  0.893805  0.958037   \n",
       "AdaBoostFilt                 279.893         0.176127  0.858407  0.933855   \n",
       "XGBoostFilt                   23.966         0.247174  0.911504  0.968883   \n",
       "SVMMode                      29.8953        0.0460324  0.927536   0.94958   \n",
       "RandomForestMode             44.3785         0.740516  0.891304  0.955567   \n",
       "AdaBoostMode                  613.95         0.186131  0.782609  0.911975   \n",
       "XGBoostMode                  54.7444         0.450322  0.862319  0.952731   \n",
       "\n",
       "                                                             Params  \n",
       "SVM               {'C': 0.15000000000000002, 'coef0': 3.60000000...  \n",
       "RandomForest      {'criterion': 'gini', 'max_features': 'sqrt', ...  \n",
       "AdaBoost          {'base_estimator': DecisionTreeClassifier(clas...  \n",
       "XGBoost           {'learning_rate': 0.1, 'max_depth': 2, 'n_esti...  \n",
       "SVMFilt           {'C': 0.25000000000000006, 'coef0': 3.80000000...  \n",
       "RandomForestFilt  {'criterion': 'gini', 'max_features': 'sqrt', ...  \n",
       "AdaBoostFilt      {'base_estimator': DecisionTreeClassifier(clas...  \n",
       "XGBoostFilt       {'learning_rate': 0.01, 'max_depth': 4, 'n_est...  \n",
       "SVMMode           {'C': 0.20000000000000004, 'coef0': 3.0, 'degr...  \n",
       "RandomForestMode  {'criterion': 'gini', 'max_features': 'sqrt', ...  \n",
       "AdaBoostMode      {'base_estimator': DecisionTreeClassifier(clas...  \n",
       "XGBoostMode       {'learning_rate': 0.01, 'max_depth': 2, 'n_est...  "
      ]
     },
     "execution_count": 169,
     "metadata": {},
     "output_type": "execute_result"
    }
   ],
   "source": [
    "res_columns = ['Grid search time, s', 'Training time, s', 'Accuracy', 'ROC-AUC', 'Params']\n",
    "res_indices = ['SVM', 'RandomForest', 'AdaBoost', 'XGBoost', 'SVMFilt','RandomForestFilt',\n",
    "               'AdaBoostFilt', 'XGBoostFilt', 'SVMMode','RandomForestMode',\n",
    "               'AdaBoostMode', 'XGBoostMode']\n",
    "resMetr = np.vstack([np.array(resMetrics), np.array(resMetrics_filt), np.array(resMetrics_mode)])\n",
    "\n",
    "result_df = pd.DataFrame(resMetr[:, [0, 1, 3, 4, 5]], index=res_indices, columns=res_columns)\n",
    "result_df"
   ]
  },
  {
   "cell_type": "markdown",
   "metadata": {},
   "source": [
    "Как видно из таблицы, в большинстве случаев быстрее всего обучается SVM, а медленнее всего AdaBoost. При этом наибольший результат по accuracy и roc-auc на первой и третьей версии датасета получается при использовании SVM с полиномиальным ядром, а на датасете с отфильтрованными выбросами лучше всего работает XGBoost."
   ]
  },
  {
   "cell_type": "markdown",
   "metadata": {},
   "source": [
    "В следующей ячейки показаны confusion matrix для всех использованных алгоритмов. В итоге, смотря на метрики, можно сделать следующие выводы:\n",
    "1. На данном датасете лучше всего работает SVM с полиномиальным ядром;\n",
    "2. Заполнение пропусков модой и при помощи наиболее схожих векторов практически не дают различий по итоговой метрике (изменяется лишь класс одного элемента, что видно из confusion matrix);\n",
    "3. Фильтрация выбросов в данном даасете не играет существенной роли - это может быть связано с тем, что данные взяты из экономики, и, судя по графикам, имеют распределение с тяжелым хвостом."
   ]
  },
  {
   "cell_type": "code",
   "execution_count": 170,
   "metadata": {},
   "outputs": [
    {
     "data": {
      "image/png": "[encoded data removed]",
      "text/plain": [
       "<Figure size 1440x864 with 12 Axes>"
      ]
     },
     "metadata": {
      "needs_background": "light"
     },
     "output_type": "display_data"
    }
   ],
   "source": [
    "%matplotlib inline\n",
    "matrices = resMetr[:, [2]]\n",
    "fig, ax = plt.subplots(3, 4, figsize=(20, 12))\n",
    "for m in range(3):\n",
    "    for i in range(4):\n",
    "        # print('Признак:', realCols[i])\n",
    "        # buf = list(dfX[realCols[i]])\n",
    "        # print(matrices[i][0])\n",
    "        ax[m][i].imshow(matrices[i + m * 4][0], interpolation='nearest', cmap=plt.cm.Blues)\n",
    "        cm = matrices[i + m * 4][0]\n",
    "        normalize = False\n",
    "        fmt = '.2f' if normalize else 'd'\n",
    "        thresh = cm.max() / 2.\n",
    "        for k in range(2):\n",
    "            for j in range(2):\n",
    "                ax[m][i].text(j, k, format(cm[k][j], fmt),\n",
    "                        ha=\"center\", va=\"center\",\n",
    "                        color=\"white\" if cm[k, j] > thresh else \"black\")\n",
    "        ax[m][i].set_title(res_indices[i + m * 4])"
   ]
  },
  {
   "cell_type": "code",
   "execution_count": null,
   "metadata": {},
   "outputs": [],
   "source": []
  }
 ],
 "metadata": {
  "kernelspec": {
   "display_name": "Python 3",
   "language": "python",
   "name": "python3"
  },
  "language_info": {
   "codemirror_mode": {
    "name": "ipython",
    "version": 3
   },
   "file_extension": ".py",
   "mimetype": "text/x-python",
   "name": "python",
   "nbconvert_exporter": "python",
   "pygments_lexer": "ipython3",
   "version": "3.7.5"
  }
 },
 "nbformat": 4,
 "nbformat_minor": 2
}
