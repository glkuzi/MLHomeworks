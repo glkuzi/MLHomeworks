{
 "cells": [
  {
   "cell_type": "markdown",
   "metadata": {},
   "source": [
    "# Домашнее задание №1\n",
    "\n",
    "## Постановка задачи\n",
    "\n",
    "1. Используется [датасет](https://archive.ics.uci.edu/ml/datasets/Credit+Approval) с данными об одобрении кредитов. Содержит бинарные, категориальные и числовые признаки; также содержит пропущенные данные.\n",
    "2. Задача - бинарная классификация, целевой признак - последний столбец (A16); показывает - одобрен кредит или нет.\n",
    "3. Функция потерь - бинарная кроссэнтропия (можно также попробовать Square hinge loss).\n",
    "4. Метрики оценки качества - accuracy (основная метрика), [ROC AUC score](https://scikit-learn.org/stable/modules/generated/sklearn.metrics.roc_auc_score.html), [confusion matrix](https://scikit-learn.org/stable/modules/generated/sklearn.metrics.confusion_matrix.html).\n",
    "\n",
    "### Бинарная кроссэнтропия\n",
    "\n",
    "$L(y, \\hat{y})=-\\frac{1}{N}\\sum_{i=0}^{N}(y\\cdot \\log(\\hat{y_{i}})+(1-y)\\cdot \\log(1-\\hat{y_{i}}))$,\n",
    "$y$ - целевое значение, $\\hat{y}$ - предсказанное значение.\n",
    "\n",
    "### Square hinge loss\n",
    "\n",
    "$L(y, \\hat{y})=-\\frac{1}{N}\\sum_{i=0}^{N}(max(0,1-y_{i}\\cdot\\hat{y_{i}})^{2})$"
   ]
  },
  {
   "cell_type": "code",
   "execution_count": 1,
   "metadata": {},
   "outputs": [],
   "source": [
    "import pandas as pd\n",
    "import time\n",
    "import numpy as np\n",
    "import sklearn.preprocessing, sklearn.metrics\n",
    "import matplotlib.pyplot as plt\n",
    "import sklearn.model_selection, sklearn.svm\n",
    "import sklearn.tree, sklearn.ensemble"
   ]
  },
  {
   "cell_type": "markdown",
   "metadata": {},
   "source": [
    "## Общая информация о датасете"
   ]
  },
  {
   "cell_type": "code",
   "execution_count": 2,
   "metadata": {},
   "outputs": [
    {
     "name": "stdout",
     "output_type": "stream",
     "text": [
      "\n",
      "\n",
      "1. Title: Credit Approval\n",
      "\n",
      "\n",
      "\n",
      "2. Sources: \n",
      "\n",
      "    (confidential)\n",
      "\n",
      "    Submitted by quinlan@cs.su.oz.au\n",
      "\n",
      "\n",
      "\n",
      "3.  Past Usage:\n",
      "\n",
      "\n",
      "\n",
      "    See Quinlan,\n",
      "\n",
      "    * \"Simplifying decision trees\", Int J Man-Machine Studies 27,\n",
      "\n",
      "      Dec 1987, pp. 221-234.\n",
      "\n",
      "    * \"C4.5: Programs for Machine Learning\", Morgan Kaufmann, Oct 1992\n",
      "\n",
      "  \n",
      "\n",
      "4.  Relevant Information:\n",
      "\n",
      "\n",
      "\n",
      "    This file concerns credit card applications.  All attribute names\n",
      "\n",
      "    and values have been changed to meaningless symbols to protect\n",
      "\n",
      "    confidentiality of the data.\n",
      "\n",
      "  \n",
      "\n",
      "    This dataset is interesting because there is a good mix of\n",
      "\n",
      "    attributes -- continuous, nominal with small numbers of\n",
      "\n",
      "    values, and nominal with larger numbers of values.  There\n",
      "\n",
      "    are also a few missing values.\n",
      "\n",
      "  \n",
      "\n",
      "5.  Number of Instances: 690\n",
      "\n",
      "\n",
      "\n",
      "6.  Number of Attributes: 15 + class attribute\n",
      "\n",
      "\n",
      "\n",
      "7.  Attribute Information:\n",
      "\n",
      "\n",
      "\n",
      "    A1:\tb, a.\n",
      "\n",
      "    A2:\tcontinuous.\n",
      "\n",
      "    A3:\tcontinuous.\n",
      "\n",
      "    A4:\tu, y, l, t.\n",
      "\n",
      "    A5:\tg, p, gg.\n",
      "\n",
      "    A6:\tc, d, cc, i, j, k, m, r, q, w, x, e, aa, ff.\n",
      "\n",
      "    A7:\tv, h, bb, j, n, z, dd, ff, o.\n",
      "\n",
      "    A8:\tcontinuous.\n",
      "\n",
      "    A9:\tt, f.\n",
      "\n",
      "    A10:\tt, f.\n",
      "\n",
      "    A11:\tcontinuous.\n",
      "\n",
      "    A12:\tt, f.\n",
      "\n",
      "    A13:\tg, p, s.\n",
      "\n",
      "    A14:\tcontinuous.\n",
      "\n",
      "    A15:\tcontinuous.\n",
      "\n",
      "    A16: +,-         (class attribute)\n",
      "\n",
      "\n",
      "\n",
      "8.  Missing Attribute Values:\n",
      "\n",
      "    37 cases (5%) have one or more missing values.  The missing\n",
      "\n",
      "    values from particular attributes are:\n",
      "\n",
      "\n",
      "\n",
      "    A1:  12\n",
      "\n",
      "    A2:  12\n",
      "\n",
      "    A4:   6\n",
      "\n",
      "    A5:   6\n",
      "\n",
      "    A6:   9\n",
      "\n",
      "    A7:   9\n",
      "\n",
      "    A14: 13\n",
      "\n",
      "\n",
      "\n",
      "9.  Class Distribution\n",
      "\n",
      "  \n",
      "\n",
      "    +: 307 (44.5%)\n",
      "\n",
      "    -: 383 (55.5%)\n",
      "\n",
      "\n",
      "\n"
     ]
    }
   ],
   "source": [
    "f = open('crx.names')\n",
    "for line in f:\n",
    "    print(line)"
   ]
  },
  {
   "cell_type": "code",
   "execution_count": 3,
   "metadata": {},
   "outputs": [
    {
     "data": {
      "text/html": [
       "<div>\n",
       "<style scoped>\n",
       "    .dataframe tbody tr th:only-of-type {\n",
       "        vertical-align: middle;\n",
       "    }\n",
       "\n",
       "    .dataframe tbody tr th {\n",
       "        vertical-align: top;\n",
       "    }\n",
       "\n",
       "    .dataframe thead th {\n",
       "        text-align: right;\n",
       "    }\n",
       "</style>\n",
       "<table border=\"1\" class=\"dataframe\">\n",
       "  <thead>\n",
       "    <tr style=\"text-align: right;\">\n",
       "      <th></th>\n",
       "      <th>0</th>\n",
       "      <th>1</th>\n",
       "      <th>2</th>\n",
       "      <th>3</th>\n",
       "      <th>4</th>\n",
       "      <th>5</th>\n",
       "      <th>6</th>\n",
       "      <th>7</th>\n",
       "      <th>8</th>\n",
       "      <th>9</th>\n",
       "      <th>10</th>\n",
       "      <th>11</th>\n",
       "      <th>12</th>\n",
       "      <th>13</th>\n",
       "      <th>14</th>\n",
       "      <th>15</th>\n",
       "    </tr>\n",
       "  </thead>\n",
       "  <tbody>\n",
       "    <tr>\n",
       "      <th>0</th>\n",
       "      <td>b</td>\n",
       "      <td>30.83</td>\n",
       "      <td>0.000</td>\n",
       "      <td>u</td>\n",
       "      <td>g</td>\n",
       "      <td>w</td>\n",
       "      <td>v</td>\n",
       "      <td>1.25</td>\n",
       "      <td>t</td>\n",
       "      <td>t</td>\n",
       "      <td>1</td>\n",
       "      <td>f</td>\n",
       "      <td>g</td>\n",
       "      <td>00202</td>\n",
       "      <td>0</td>\n",
       "      <td>+</td>\n",
       "    </tr>\n",
       "    <tr>\n",
       "      <th>1</th>\n",
       "      <td>a</td>\n",
       "      <td>58.67</td>\n",
       "      <td>4.460</td>\n",
       "      <td>u</td>\n",
       "      <td>g</td>\n",
       "      <td>q</td>\n",
       "      <td>h</td>\n",
       "      <td>3.04</td>\n",
       "      <td>t</td>\n",
       "      <td>t</td>\n",
       "      <td>6</td>\n",
       "      <td>f</td>\n",
       "      <td>g</td>\n",
       "      <td>00043</td>\n",
       "      <td>560</td>\n",
       "      <td>+</td>\n",
       "    </tr>\n",
       "    <tr>\n",
       "      <th>2</th>\n",
       "      <td>a</td>\n",
       "      <td>24.50</td>\n",
       "      <td>0.500</td>\n",
       "      <td>u</td>\n",
       "      <td>g</td>\n",
       "      <td>q</td>\n",
       "      <td>h</td>\n",
       "      <td>1.50</td>\n",
       "      <td>t</td>\n",
       "      <td>f</td>\n",
       "      <td>0</td>\n",
       "      <td>f</td>\n",
       "      <td>g</td>\n",
       "      <td>00280</td>\n",
       "      <td>824</td>\n",
       "      <td>+</td>\n",
       "    </tr>\n",
       "    <tr>\n",
       "      <th>3</th>\n",
       "      <td>b</td>\n",
       "      <td>27.83</td>\n",
       "      <td>1.540</td>\n",
       "      <td>u</td>\n",
       "      <td>g</td>\n",
       "      <td>w</td>\n",
       "      <td>v</td>\n",
       "      <td>3.75</td>\n",
       "      <td>t</td>\n",
       "      <td>t</td>\n",
       "      <td>5</td>\n",
       "      <td>t</td>\n",
       "      <td>g</td>\n",
       "      <td>00100</td>\n",
       "      <td>3</td>\n",
       "      <td>+</td>\n",
       "    </tr>\n",
       "    <tr>\n",
       "      <th>4</th>\n",
       "      <td>b</td>\n",
       "      <td>20.17</td>\n",
       "      <td>5.625</td>\n",
       "      <td>u</td>\n",
       "      <td>g</td>\n",
       "      <td>w</td>\n",
       "      <td>v</td>\n",
       "      <td>1.71</td>\n",
       "      <td>t</td>\n",
       "      <td>f</td>\n",
       "      <td>0</td>\n",
       "      <td>f</td>\n",
       "      <td>s</td>\n",
       "      <td>00120</td>\n",
       "      <td>0</td>\n",
       "      <td>+</td>\n",
       "    </tr>\n",
       "  </tbody>\n",
       "</table>\n",
       "</div>"
      ],
      "text/plain": [
       "  0      1      2  3  4  5  6     7  8  9   10 11 12     13   14 15\n",
       "0  b  30.83  0.000  u  g  w  v  1.25  t  t   1  f  g  00202    0  +\n",
       "1  a  58.67  4.460  u  g  q  h  3.04  t  t   6  f  g  00043  560  +\n",
       "2  a  24.50  0.500  u  g  q  h  1.50  t  f   0  f  g  00280  824  +\n",
       "3  b  27.83  1.540  u  g  w  v  3.75  t  t   5  t  g  00100    3  +\n",
       "4  b  20.17  5.625  u  g  w  v  1.71  t  f   0  f  s  00120    0  +"
      ]
     },
     "execution_count": 3,
     "metadata": {},
     "output_type": "execute_result"
    }
   ],
   "source": [
    "df = pd.read_csv('crx.data', sep=',', header=None)\n",
    "df.head(5)"
   ]
  },
  {
   "cell_type": "markdown",
   "metadata": {},
   "source": [
    "## Замена пропущенных данных (и замена категориальных данных)"
   ]
  },
  {
   "cell_type": "code",
   "execution_count": 4,
   "metadata": {},
   "outputs": [],
   "source": [
    "cols = list(df.columns)\n",
    "categoricalCols = [0, 3, 4, 5, 6, 8, 9, 10, 11, 12]\n",
    "realCols = [x for x in cols if x not in categoricalCols]\n",
    "dfX = df[cols[:-1]]\n",
    "dfY = df[cols[-1]]"
   ]
  },
  {
   "cell_type": "code",
   "execution_count": 5,
   "metadata": {},
   "outputs": [],
   "source": [
    "# создаем массив с местоположением пропущенных данных, формат (i, [j_1, ..., j_n])\n",
    "missingValueIndices = []\n",
    "for i in range(len(dfX)):\n",
    "    if True in set(dfX.iloc[i,:].str.contains('?', regex=False)):\n",
    "        buf = list(dfX.iloc[i,:].str.contains('?', regex=False))\n",
    "        xMissingIndices = [i for i, x in enumerate(buf) if x == True]\n",
    "        missingValueIndices.append((i, xMissingIndices))"
   ]
  },
  {
   "cell_type": "code",
   "execution_count": 6,
   "metadata": {},
   "outputs": [],
   "source": [
    "# таблица с исключенными строками с пропущенными значениями\n",
    "dfXFull = dfX.drop([x[0] for x in missingValueIndices])\n",
    "dfXFull = dfXFull.reset_index(drop=True)"
   ]
  },
  {
   "cell_type": "code",
   "execution_count": 7,
   "metadata": {},
   "outputs": [
    {
     "name": "stderr",
     "output_type": "stream",
     "text": [
      "C:\\Program Files\\WPy-3670\\python-3.6.7.amd64\\lib\\site-packages\\pandas\\core\\indexing.py:543: SettingWithCopyWarning: \n",
      "A value is trying to be set on a copy of a slice from a DataFrame.\n",
      "Try using .loc[row_indexer,col_indexer] = value instead\n",
      "\n",
      "See the caveats in the documentation: http://pandas.pydata.org/pandas-docs/stable/indexing.html#indexing-view-versus-copy\n",
      "  self.obj[item] = s\n"
     ]
    }
   ],
   "source": [
    "# избавляемся от категориальных признаков в dfXFull и в dfX\n",
    "# при этом сохраняем энкодеры только для dfXFull, т. к. в них нет ´?´\n",
    "encoders = []\n",
    "for col in categoricalCols:\n",
    "    buf = list(dfXFull[col])\n",
    "    le = sklearn.preprocessing.LabelEncoder()\n",
    "    le.fit(buf)\n",
    "    # print(le.classes_)\n",
    "    buf = le.transform(buf)\n",
    "    encoders.append(le)\n",
    "    dfX.loc[:, col] = dfX[col].replace('?', dfX[col][0])\n",
    "    bufX = list(dfX[col])\n",
    "    le = sklearn.preprocessing.LabelEncoder()\n",
    "    le.fit(bufX)\n",
    "    bufX = le.transform(bufX)\n",
    "    dfXFull.loc[:, col] = buf\n",
    "    dfX.loc[:, col] = bufX\n",
    "buf = list(dfY)\n",
    "le = sklearn.preprocessing.LabelEncoder()\n",
    "le.fit(buf)\n",
    "buf = le.transform(buf)\n",
    "dfY = buf\n",
    "encoders.append(le)"
   ]
  },
  {
   "cell_type": "code",
   "execution_count": 8,
   "metadata": {},
   "outputs": [],
   "source": [
    "# заменяем пропущенные значения значениями из векторов с наименьшим расстоянием между ними\n",
    "for x in missingValueIndices:\n",
    "    fullCols = [y for y in cols[:-1] if y not in x[1]]\n",
    "    bufDf = dfXFull[fullCols]\n",
    "    vec = list(dfX.iloc[x[0], fullCols])\n",
    "    dist = sklearn.metrics.pairwise.euclidean_distances([vec], np.array(bufDf))\n",
    "    simVecIndex = list(dist[0]).index(min(dist[0]))\n",
    "    for col in x[1]:\n",
    "        dfX.at[x[0], col] = dfXFull.iloc[simVecIndex, col]"
   ]
  },
  {
   "cell_type": "markdown",
   "metadata": {},
   "source": [
    "## Нормализация данных"
   ]
  },
  {
   "cell_type": "code",
   "execution_count": 9,
   "metadata": {},
   "outputs": [
    {
     "name": "stderr",
     "output_type": "stream",
     "text": [
      "C:\\Program Files\\WPy-3670\\python-3.6.7.amd64\\lib\\site-packages\\pandas\\core\\indexing.py:543: SettingWithCopyWarning: \n",
      "A value is trying to be set on a copy of a slice from a DataFrame.\n",
      "Try using .loc[row_indexer,col_indexer] = value instead\n",
      "\n",
      "See the caveats in the documentation: http://pandas.pydata.org/pandas-docs/stable/indexing.html#indexing-view-versus-copy\n",
      "  self.obj[item] = s\n"
     ]
    }
   ],
   "source": [
    "means = []\n",
    "stds = []\n",
    "for col in realCols[:-1]:\n",
    "    bufCol = np.array(dfX.loc[:, col])\n",
    "    if col in realCols:\n",
    "        bufCol = list(map(float, bufCol))\n",
    "        dfX.loc[:, col] = bufCol\n",
    "    means.append(np.mean(bufCol))\n",
    "    stds.append(np.std(bufCol))\n",
    "    dfX.loc[:, col] = [(x - means[-1]) / stds[-1] for x in bufCol]"
   ]
  },
  {
   "cell_type": "code",
   "execution_count": 10,
   "metadata": {},
   "outputs": [
    {
     "name": "stdout",
     "output_type": "stream",
     "text": [
      "[31.72808695652174, 4.758724637681159, 2.223405797101449, 182.58840579710144, 1017.3855072463768] [11.974399653632007, 4.974554575891537, 3.344087470333537, 172.8550079651091, 5206.325792733279]\n"
     ]
    }
   ],
   "source": [
    "print(means, stds)"
   ]
  },
  {
   "cell_type": "markdown",
   "metadata": {},
   "source": [
    "## Разведочный анализ"
   ]
  },
  {
   "cell_type": "code",
   "execution_count": 11,
   "metadata": {},
   "outputs": [
    {
     "name": "stdout",
     "output_type": "stream",
     "text": [
      "Признак: 0\n",
      "Классы: [1, 0]\n",
      "Распределение: [68.99, 31.01]\n",
      "Признак: 3\n",
      "Классы: [1, 2, 0]\n",
      "Распределение: [75.94, 23.77, 0.29]\n",
      "Признак: 4\n",
      "Классы: [0, 2, 1]\n",
      "Распределение: [75.94, 23.77, 0.29]\n",
      "Признак: 5\n",
      "Классы: [12, 10, 9, 11, 2, 8, 1, 3, 13, 6, 4, 0, 5, 7]\n",
      "Распределение: [19.86, 11.59, 9.28, 8.55, 7.97, 7.97, 7.54, 6.09, 5.65, 5.51, 4.49, 3.62, 1.45, 0.43]\n",
      "Признак: 6\n",
      "Классы: [7, 3, 0, 2, 4, 8, 6, 1, 5]\n",
      "Распределение: [58.84, 20.0, 8.55, 8.55, 1.16, 1.16, 0.87, 0.58, 0.29]\n",
      "Признак: 8\n",
      "Классы: [1, 0]\n",
      "Распределение: [52.32, 47.68]\n",
      "Признак: 9\n",
      "Классы: [1, 0]\n",
      "Распределение: [57.25, 42.75]\n",
      "Признак: 10\n",
      "Классы: [1, 6, 0, 5, 7, 10, 3, 17, 2, 9, 8, 15, 11, 12, 21, 20, 4, 19, 22, 14, 16, 13, 18]\n",
      "Распределение: [57.25, 10.29, 6.52, 4.06, 3.33, 2.75, 2.61, 2.32, 2.17, 1.45, 1.45, 1.16, 1.16, 1.16, 0.58, 0.43, 0.29, 0.29, 0.14, 0.14, 0.14, 0.14, 0.14]\n",
      "Признак: 11\n",
      "Классы: [0, 1]\n",
      "Распределение: [54.2, 45.8]\n",
      "Признак: 12\n",
      "Классы: [0, 2, 1]\n",
      "Распределение: [90.58, 8.26, 1.16]\n"
     ]
    }
   ],
   "source": [
    "for col in categoricalCols:\n",
    "    print('Признак:', col)\n",
    "    print('Классы:', list(dfX[col].unique()))\n",
    "    print('Распределение:', [round(x * 100, 2) for x in list(dfX[col].value_counts(normalize=True))])"
   ]
  },
  {
   "cell_type": "code",
   "execution_count": 12,
   "metadata": {},
   "outputs": [
    {
     "data": {
      "image/png": "[encoded data removed]",
      "text/plain": [
       "<Figure size 576x1440 with 5 Axes>"
      ]
     },
     "metadata": {
      "needs_background": "light"
     },
     "output_type": "display_data"
    }
   ],
   "source": [
    "%matplotlib inline\n",
    "fig, ax = plt.subplots(len(realCols[:-1]), 1, figsize=(8, 20))\n",
    "for i in range(len(realCols[:-1])):\n",
    "    # print('Признак:', realCols[i])\n",
    "    buf = list(dfX[realCols[i]])\n",
    "    ax[i].hist(buf, bins=100)\n",
    "    ax[i].set_title('Признак:' + str(realCols[i]))"
   ]
  },
  {
   "cell_type": "code",
   "execution_count": 13,
   "metadata": {},
   "outputs": [
    {
     "name": "stdout",
     "output_type": "stream",
     "text": [
      "Целевой признак\n",
      "Классы: [0 1]\n",
      "Распределение: [44.49275362 55.50724638]\n"
     ]
    }
   ],
   "source": [
    "print('Целевой признак')\n",
    "# dfY\n",
    "unique, counts = np.unique(dfY, return_counts=True)\n",
    "print('Классы:', unique)\n",
    "print('Распределение:', counts / sum(counts) * 100)"
   ]
  },
  {
   "cell_type": "markdown",
   "metadata": {},
   "source": [
    "## Выбросы"
   ]
  },
  {
   "cell_type": "code",
   "execution_count": 14,
   "metadata": {},
   "outputs": [],
   "source": [
    "lower_arr = []\n",
    "upper_arr = []\n",
    "out_arr = []\n",
    "for col in realCols[:-1]:\n",
    "    buf = np.array(dfX[col])\n",
    "    q25, q75 = np.percentile(buf, 20), np.percentile(buf, 80)\n",
    "    cutoff = q75 - q25 * 1.5\n",
    "    lower, upper = q25 - cutoff, q75 + cutoff\n",
    "    lower_arr.append(lower)\n",
    "    upper_arr.append(upper)\n",
    "    outliers = [i for i in range(len(buf)) if dfX.iloc[i, col] < lower or dfX.iloc[i, col] > upper]\n",
    "    out_arr.append(outliers)"
   ]
  },
  {
   "cell_type": "code",
   "execution_count": 15,
   "metadata": {},
   "outputs": [
    {
     "name": "stdout",
     "output_type": "stream",
     "text": [
      "[-2.854183209461879, -2.9540508064258395, -1.9504898581500358, -3.0394410603463737, -0.4083644292558556] [2.787192467859216, 3.0876408021730635, 1.704739230663928, 2.7746132596763293, 0.13278217189974983]\n"
     ]
    }
   ],
   "source": [
    "print(lower_arr, upper_arr)"
   ]
  },
  {
   "cell_type": "code",
   "execution_count": 16,
   "metadata": {},
   "outputs": [
    {
     "name": "stdout",
     "output_type": "stream",
     "text": [
      "Число выбросов: 128\n"
     ]
    }
   ],
   "source": [
    "buf = []\n",
    "for x in out_arr:\n",
    "    buf = buf + x\n",
    "print('Число выбросов:', len(set(buf)))\n",
    "dfXFiltered = dfX.drop(buf)\n",
    "dfYFiltered = np.delete(dfY, buf)"
   ]
  },
  {
   "cell_type": "markdown",
   "metadata": {},
   "source": [
    "Из-за большого количества выбросов на следующем шаге обучим классификатор на данных без выбросов и на данных с выбросами. По результатам выберем параметры для фильтрации выбросов. Также такое решение обусловлено тем, что судя по графикам и по тому, что данные из области экономики, признаки (числовые) принадлежат распределению с тяжелым хвостом. Следовательно, возникает гипотеза, что данные лучше не выбрасывать."
   ]
  },
  {
   "cell_type": "markdown",
   "metadata": {},
   "source": [
    "## SVM"
   ]
  },
  {
   "cell_type": "code",
   "execution_count": 17,
   "metadata": {},
   "outputs": [],
   "source": [
    "# разбиваем на тестовую и тренировочную выборку\n",
    "X_train, X_test, y_train, y_test = sklearn.model_selection.train_test_split(dfX, dfY, test_size=0.2, random_state=10)\n",
    "# также делаем разбиение для данных без выбросов\n",
    "X_train_filt, X_test_filt, y_train_filt, \\\n",
    "y_test_filt = sklearn.model_selection.train_test_split(dfXFiltered,\n",
    "                                                       dfYFiltered, test_size=0.2, random_state=10)"
   ]
  },
  {
   "cell_type": "code",
   "execution_count": 18,
   "metadata": {},
   "outputs": [],
   "source": [
    "# функция для подбора параметров классификатора\n",
    "def chooseBestClf(X_train, X_test, y_train, y_test):\n",
    "    clf = sklearn.svm.SVC(kernel='linear', gamma='auto', probability=True, random_state=2)\n",
    "    params = []\n",
    "    result = []\n",
    "    params.append({'kernel': ['linear'], 'C': np.arange(1.5, 3.5, 0.2)})\n",
    "    params.append({'kernel': ['poly'], 'C': np.arange(0.1, 0.3, 0.05),\n",
    "                   'degree': np.arange(1, 4), 'coef0': np.arange(3, 4, 0.2)})\n",
    "    params.append({'kernel': ['rbf'], 'C': np.arange(0.6, 2.0, 0.2)})\n",
    "    params.append({'kernel': ['sigmoid'], 'C': np.arange(0.2, 0.6, 0.1), 'coef0': np.arange(0, 3, 0.5)})\n",
    "    for param in params:\n",
    "        gs = sklearn.model_selection.GridSearchCV(clf, param, scoring='roc_auc', cv=5, iid=False)\n",
    "        gs.fit(X_train, y_train)\n",
    "        clf.set_params(**gs.best_params_)\n",
    "        clf.fit(X_train, y_train)\n",
    "        y_pred = clf.predict(X_test)\n",
    "        y_pred_proba = clf.predict_proba(X_test)\n",
    "        acc = sklearn.metrics.accuracy_score(y_test, y_pred)\n",
    "        y_pred_proba = [y[1] for y in y_pred_proba]\n",
    "        roc_auc = sklearn.metrics.roc_auc_score(y_test, y_pred_proba)\n",
    "        result.append([gs.best_params_, acc, roc_auc])\n",
    "    return result"
   ]
  },
  {
   "cell_type": "code",
   "execution_count": 19,
   "metadata": {},
   "outputs": [],
   "source": [
    "start = time.time()\n",
    "res = chooseBestClf(X_train, X_test, y_train, y_test)\n",
    "end = time.time()\n",
    "svmCVTime = end - start"
   ]
  },
  {
   "cell_type": "code",
   "execution_count": 20,
   "metadata": {},
   "outputs": [
    {
     "data": {
      "text/plain": [
       "[[{'C': 2.5, 'kernel': 'linear'}, 0.9202898550724637, 0.9380252100840336],\n",
       " [{'C': 0.15000000000000002,\n",
       "   'coef0': 3.6000000000000005,\n",
       "   'degree': 2,\n",
       "   'kernel': 'poly'},\n",
       "  0.9202898550724637,\n",
       "  0.9518907563025211],\n",
       " [{'C': 1.2000000000000002, 'kernel': 'rbf'},\n",
       "  0.782608695652174,\n",
       "  0.8823529411764706],\n",
       " [{'C': 0.4000000000000001, 'coef0': 2.0, 'kernel': 'sigmoid'},\n",
       "  0.5072463768115942,\n",
       "  0.6605042016806724]]"
      ]
     },
     "execution_count": 20,
     "metadata": {},
     "output_type": "execute_result"
    }
   ],
   "source": [
    "# параметры классификатора на данных без фильтрации выбросов\n",
    "res"
   ]
  },
  {
   "cell_type": "code",
   "execution_count": 21,
   "metadata": {},
   "outputs": [],
   "source": [
    "res[1][0]['probability'] = True\n",
    "res[1][0]['random_state'] = 2\n",
    "res[1][0]['gamma'] = 'auto'\n",
    "resMetrics = []\n",
    "clf = sklearn.svm.SVC(**res[1][0])\n",
    "start = time.time()\n",
    "clf.fit(X_train, y_train)\n",
    "end = time.time()\n",
    "svmTime = end - start\n",
    "y_pred = clf.predict(X_test)\n",
    "matr = sklearn.metrics.confusion_matrix(y_test, y_pred)\n",
    "y_pred_proba = clf.predict_proba(X_test)\n",
    "acc = sklearn.metrics.accuracy_score(y_test, y_pred)\n",
    "y_pred_proba = [y[1] for y in y_pred_proba]\n",
    "roc_auc = sklearn.metrics.roc_auc_score(y_test, y_pred_proba)\n",
    "resMetrics.append([svmCVTime, svmTime, matr, acc, roc_auc])"
   ]
  },
  {
   "cell_type": "code",
   "execution_count": 22,
   "metadata": {},
   "outputs": [
    {
     "name": "stdout",
     "output_type": "stream",
     "text": [
      "30.490708827972412 0.05103635787963867\n",
      "[[62  6]\n",
      " [ 5 65]] 0.9202898550724637 0.9518907563025211\n"
     ]
    }
   ],
   "source": [
    "print(svmCVTime, svmTime)\n",
    "print(matr, acc, roc_auc)"
   ]
  },
  {
   "cell_type": "code",
   "execution_count": 23,
   "metadata": {},
   "outputs": [],
   "source": [
    "start = time.time()\n",
    "res_filt = chooseBestClf(X_train_filt, X_test_filt, y_train_filt, y_test_filt)\n",
    "end = time.time()\n",
    "svmCVTime_filt = end - start"
   ]
  },
  {
   "cell_type": "code",
   "execution_count": 24,
   "metadata": {},
   "outputs": [
    {
     "data": {
      "text/plain": [
       "[[{'C': 1.9, 'kernel': 'linear'}, 0.8938053097345132, 0.9171408250355618],\n",
       " [{'C': 0.25000000000000006,\n",
       "   'coef0': 3.8000000000000007,\n",
       "   'degree': 2,\n",
       "   'kernel': 'poly'},\n",
       "  0.911504424778761,\n",
       "  0.9377667140825036],\n",
       " [{'C': 1.4000000000000004, 'kernel': 'rbf'},\n",
       "  0.8495575221238938,\n",
       "  0.9029160739687055],\n",
       " [{'C': 0.2, 'coef0': 2.5, 'kernel': 'sigmoid'},\n",
       "  0.672566371681416,\n",
       "  0.6625177809388335]]"
      ]
     },
     "execution_count": 24,
     "metadata": {},
     "output_type": "execute_result"
    }
   ],
   "source": [
    "# параметры классификатора на данных с фильтрацией выбросов\n",
    "res_filt"
   ]
  },
  {
   "cell_type": "code",
   "execution_count": 25,
   "metadata": {},
   "outputs": [],
   "source": [
    "res_filt[1][0]['probability'] = True\n",
    "res_filt[1][0]['random_state'] = 2\n",
    "res_filt[1][0]['gamma'] = 'auto'\n",
    "resMetrics_filt = []\n",
    "clf = sklearn.svm.SVC(**res_filt[1][0])\n",
    "start = time.time()\n",
    "clf.fit(X_train_filt, y_train_filt)\n",
    "end = time.time()\n",
    "svmTime_filt = end - start\n",
    "y_pred = clf.predict(X_test_filt)\n",
    "matr = sklearn.metrics.confusion_matrix(y_test_filt, y_pred)\n",
    "y_pred_proba = clf.predict_proba(X_test_filt)\n",
    "acc = sklearn.metrics.accuracy_score(y_test_filt, y_pred)\n",
    "y_pred_proba = [y[1] for y in y_pred_proba]\n",
    "roc_auc = sklearn.metrics.roc_auc_score(y_test_filt, y_pred_proba)\n",
    "resMetrics_filt.append([svmCVTime_filt, svmTime_filt, matr, acc, roc_auc])"
   ]
  },
  {
   "cell_type": "code",
   "execution_count": 26,
   "metadata": {},
   "outputs": [
    {
     "data": {
      "text/plain": [
       "[[23.068422079086304, 0.051035404205322266, array([[35,  2],\n",
       "         [ 8, 68]], dtype=int64), 0.911504424778761, 0.9377667140825036]]"
      ]
     },
     "execution_count": 26,
     "metadata": {},
     "output_type": "execute_result"
    }
   ],
   "source": [
    "resMetrics_filt"
   ]
  },
  {
   "cell_type": "markdown",
   "metadata": {},
   "source": [
    "Лучшие результаты классификатор показывает на данных без фильтрации выбросов, с полиномиальным ядром."
   ]
  },
  {
   "cell_type": "markdown",
   "metadata": {},
   "source": [
    "## Случайный лес"
   ]
  },
  {
   "cell_type": "markdown",
   "metadata": {},
   "source": [
    "Без фильтрации выбросов"
   ]
  },
  {
   "cell_type": "code",
   "execution_count": 27,
   "metadata": {},
   "outputs": [],
   "source": [
    "def chooseBestTree(X_train, X_test, y_train, y_test):\n",
    "    clf = sklearn.ensemble.RandomForestClassifier(n_estimators=100, random_state=2)\n",
    "    param = {'criterion': ['gini', 'entropy'], 'max_depth': np.arange(2, 10), 'max_features': range(1, 15, 1),\n",
    "             'n_estimators': np.arange(150, 201, 50)}\n",
    "    gs = sklearn.model_selection.GridSearchCV(clf, param, scoring='roc_auc', cv=5, iid=False)\n",
    "    gs.fit(X_train, y_train)\n",
    "    clf.set_params(**gs.best_params_)\n",
    "    clf.fit(X_train, y_train)\n",
    "    y_pred = clf.predict(X_test)\n",
    "    y_pred_proba = clf.predict_proba(X_test)\n",
    "    acc = sklearn.metrics.accuracy_score(y_test, y_pred)\n",
    "    y_pred_proba = [y[1] for y in y_pred_proba]\n",
    "    roc_auc = sklearn.metrics.roc_auc_score(y_test, y_pred_proba)\n",
    "    res = [gs.best_params_, acc, roc_auc]\n",
    "    return res"
   ]
  },
  {
   "cell_type": "code",
   "execution_count": 28,
   "metadata": {},
   "outputs": [],
   "source": [
    "start = time.time()\n",
    "res = chooseBestTree(X_train, X_test, y_train, y_test)\n",
    "end = time.time()\n",
    "rfcCVTime = end - start"
   ]
  },
  {
   "cell_type": "code",
   "execution_count": 29,
   "metadata": {},
   "outputs": [
    {
     "data": {
      "text/plain": [
       "[{'criterion': 'entropy',\n",
       "  'max_depth': 4,\n",
       "  'max_features': 4,\n",
       "  'n_estimators': 200},\n",
       " 0.8623188405797102,\n",
       " 0.9569327731092437]"
      ]
     },
     "execution_count": 29,
     "metadata": {},
     "output_type": "execute_result"
    }
   ],
   "source": [
    "res"
   ]
  },
  {
   "cell_type": "code",
   "execution_count": 30,
   "metadata": {},
   "outputs": [],
   "source": [
    "res[0]['random_state'] = 2\n",
    "clf = sklearn.ensemble.RandomForestClassifier(**res[0])\n",
    "start = time.time()\n",
    "clf.fit(X_train, y_train)\n",
    "end = time.time()\n",
    "rfcTime = end - start\n",
    "y_pred = clf.predict(X_test)\n",
    "matr = sklearn.metrics.confusion_matrix(y_test, y_pred)\n",
    "y_pred_proba = clf.predict_proba(X_test)\n",
    "acc = sklearn.metrics.accuracy_score(y_test, y_pred)\n",
    "y_pred_proba = [y[1] for y in y_pred_proba]\n",
    "roc_auc = sklearn.metrics.roc_auc_score(y_test, y_pred_proba)\n",
    "resMetrics.append([rfcCVTime, rfcTime, matr, acc, roc_auc])"
   ]
  },
  {
   "cell_type": "code",
   "execution_count": 31,
   "metadata": {},
   "outputs": [
    {
     "name": "stdout",
     "output_type": "stream",
     "text": [
      "[[30.490708827972412, 0.05103635787963867, array([[62,  6],\n",
      "       [ 5, 65]], dtype=int64), 0.9202898550724637, 0.9518907563025211], [645.1480660438538, 0.26818299293518066, array([[52, 16],\n",
      "       [ 3, 67]], dtype=int64), 0.8623188405797102, 0.9569327731092437]]\n"
     ]
    }
   ],
   "source": [
    "print(resMetrics)"
   ]
  },
  {
   "cell_type": "markdown",
   "metadata": {},
   "source": [
    "С фильтрацией выбросов"
   ]
  },
  {
   "cell_type": "code",
   "execution_count": 32,
   "metadata": {},
   "outputs": [],
   "source": [
    "def chooseBestTree(X_train, X_test, y_train, y_test):\n",
    "    clf = sklearn.ensemble.RandomForestClassifier(n_estimators=100, random_state=2)\n",
    "    param = {'criterion': ['gini', 'entropy'], 'max_depth': np.arange(8, 12), 'max_features': range(1, 5, 1),\n",
    "             'n_estimators': np.arange(190, 221, 10)}\n",
    "    gs = sklearn.model_selection.GridSearchCV(clf, param, scoring='roc_auc', cv=5, iid=False)\n",
    "    gs.fit(X_train, y_train)\n",
    "    clf.set_params(**gs.best_params_)\n",
    "    clf.fit(X_train, y_train)\n",
    "    y_pred = clf.predict(X_test)\n",
    "    y_pred_proba = clf.predict_proba(X_test)\n",
    "    acc = sklearn.metrics.accuracy_score(y_test, y_pred)\n",
    "    y_pred_proba = [y[1] for y in y_pred_proba]\n",
    "    roc_auc = sklearn.metrics.roc_auc_score(y_test, y_pred_proba)\n",
    "    res = [gs.best_params_, acc, roc_auc]\n",
    "    return res"
   ]
  },
  {
   "cell_type": "code",
   "execution_count": 33,
   "metadata": {},
   "outputs": [
    {
     "name": "stdout",
     "output_type": "stream",
     "text": [
      "[{'criterion': 'entropy', 'max_depth': 9, 'max_features': 2, 'n_estimators': 200}, 0.9026548672566371, 0.9576813655761024] 163.9601857662201\n"
     ]
    }
   ],
   "source": [
    "start = time.time()\n",
    "res = chooseBestTree(X_train_filt, X_test_filt, y_train_filt, y_test_filt)\n",
    "end = time.time()\n",
    "rfcCVTime_filt = end - start\n",
    "print(res, rfcCVTime_filt)"
   ]
  },
  {
   "cell_type": "code",
   "execution_count": 34,
   "metadata": {},
   "outputs": [],
   "source": [
    "res[0]['random_state'] = 2\n",
    "# resMetrics_filt = []\n",
    "clf = sklearn.ensemble.RandomForestClassifier(**res[0])\n",
    "start = time.time()\n",
    "clf.fit(X_train_filt, y_train_filt)\n",
    "end = time.time()\n",
    "rfcTime_filt = end - start\n",
    "y_pred = clf.predict(X_test_filt)\n",
    "matr = sklearn.metrics.confusion_matrix(y_test_filt, y_pred)\n",
    "y_pred_proba = clf.predict_proba(X_test_filt)\n",
    "acc = sklearn.metrics.accuracy_score(y_test_filt, y_pred)\n",
    "y_pred_proba = [y[1] for y in y_pred_proba]\n",
    "roc_auc = sklearn.metrics.roc_auc_score(y_test_filt, y_pred_proba)\n",
    "resMetrics_filt.append([rfcCVTime_filt, rfcTime_filt, matr, acc, roc_auc])"
   ]
  },
  {
   "cell_type": "markdown",
   "metadata": {},
   "source": [
    "## Boosting"
   ]
  },
  {
   "cell_type": "markdown",
   "metadata": {},
   "source": [
    "Без фильтрации выбросов"
   ]
  },
  {
   "cell_type": "code",
   "execution_count": 35,
   "metadata": {},
   "outputs": [],
   "source": [
    "def chooseBestParams(X_train, X_test, y_train, y_test):\n",
    "    clf = sklearn.ensemble.AdaBoostClassifier(learning_rate=0.9, random_state=2)\n",
    "    est1 = sklearn.tree.DecisionTreeClassifier(max_depth=10, random_state=2)\n",
    "    est2 = sklearn.svm.SVC(kernel='poly', degree=2, gamma='auto', probability=True)\n",
    "    param = {'base_estimator': [est1], 'base_estimator__max_depth': np.arange(5, 11),\n",
    "             'base_estimator__max_features': range(3, 15, 2),\n",
    "             'learning_rate': np.arange(0.8, 0.92, 0.02), 'n_estimators': np.arange(80, 151, 10)}\n",
    "    gs = sklearn.model_selection.GridSearchCV(clf, param, scoring='roc_auc', cv=5, iid=False)\n",
    "    gs.fit(X_train, y_train)\n",
    "    clf.set_params(**gs.best_params_)\n",
    "    clf.fit(X_train, y_train)\n",
    "    y_pred = clf.predict(X_test)\n",
    "    y_pred_proba = clf.predict_proba(X_test)\n",
    "    acc = sklearn.metrics.accuracy_score(y_test, y_pred)\n",
    "    y_pred_proba = [y[1] for y in y_pred_proba]\n",
    "    roc_auc = sklearn.metrics.roc_auc_score(y_test, y_pred_proba)\n",
    "    res = [gs.best_params_, acc, roc_auc]\n",
    "    return res"
   ]
  },
  {
   "cell_type": "code",
   "execution_count": 36,
   "metadata": {},
   "outputs": [
    {
     "name": "stdout",
     "output_type": "stream",
     "text": [
      "[{'base_estimator': DecisionTreeClassifier(class_weight=None, criterion='gini', max_depth=6,\n",
      "                       max_features=5, max_leaf_nodes=None,\n",
      "                       min_impurity_decrease=0.0, min_impurity_split=None,\n",
      "                       min_samples_leaf=1, min_samples_split=2,\n",
      "                       min_weight_fraction_leaf=0.0, presort=False,\n",
      "                       random_state=2, splitter='best'), 'base_estimator__max_depth': 6, 'base_estimator__max_features': 5, 'learning_rate': 0.8800000000000001, 'n_estimators': 150}, 0.8333333333333334, 0.9258403361344537]\n"
     ]
    }
   ],
   "source": [
    "start = time.time()\n",
    "res = chooseBestParams(X_train, X_test, y_train, y_test)\n",
    "end = time.time()\n",
    "abcCVTime = end - start\n",
    "print(res)"
   ]
  },
  {
   "cell_type": "code",
   "execution_count": 37,
   "metadata": {},
   "outputs": [
    {
     "name": "stdout",
     "output_type": "stream",
     "text": [
      "2374.273901462555\n"
     ]
    }
   ],
   "source": [
    "print(abcCVTime)"
   ]
  },
  {
   "cell_type": "code",
   "execution_count": 38,
   "metadata": {},
   "outputs": [],
   "source": [
    "res[0]['random_state'] = 2\n",
    "del res[0]['base_estimator__max_depth']\n",
    "del res[0]['base_estimator__max_features']\n",
    "clf = sklearn.ensemble.AdaBoostClassifier(**res[0])\n",
    "start = time.time()\n",
    "clf.fit(X_train, y_train)\n",
    "end = time.time()\n",
    "abcTime = end - start\n",
    "y_pred = clf.predict(X_test)\n",
    "matr = sklearn.metrics.confusion_matrix(y_test, y_pred)\n",
    "y_pred_proba = clf.predict_proba(X_test)\n",
    "acc = sklearn.metrics.accuracy_score(y_test, y_pred)\n",
    "y_pred_proba = [y[1] for y in y_pred_proba]\n",
    "roc_auc = sklearn.metrics.roc_auc_score(y_test, y_pred_proba)\n",
    "resMetrics.append([abcCVTime, abcTime, matr, acc, roc_auc])"
   ]
  },
  {
   "cell_type": "code",
   "execution_count": 39,
   "metadata": {},
   "outputs": [
    {
     "name": "stdout",
     "output_type": "stream",
     "text": [
      "[[30.490708827972412, 0.05103635787963867, array([[62,  6],\n",
      "       [ 5, 65]], dtype=int64), 0.9202898550724637, 0.9518907563025211], [645.1480660438538, 0.26818299293518066, array([[52, 16],\n",
      "       [ 3, 67]], dtype=int64), 0.8623188405797102, 0.9569327731092437], [2374.273901462555, 0.33224964141845703, array([[48, 20],\n",
      "       [ 3, 67]], dtype=int64), 0.8333333333333334, 0.9258403361344537]]\n"
     ]
    }
   ],
   "source": [
    "print(resMetrics)"
   ]
  },
  {
   "cell_type": "markdown",
   "metadata": {},
   "source": [
    "С фильтрацией выбросов"
   ]
  },
  {
   "cell_type": "code",
   "execution_count": 40,
   "metadata": {},
   "outputs": [],
   "source": [
    "def chooseBestParams(X_train, X_test, y_train, y_test):\n",
    "    clf = sklearn.ensemble.AdaBoostClassifier(learning_rate=0.9, random_state=2)\n",
    "    est1 = sklearn.tree.DecisionTreeClassifier(max_depth=10, random_state=2)\n",
    "    est2 = sklearn.svm.SVC(kernel='poly', degree=2, gamma='auto', probability=True)\n",
    "    param = {'base_estimator': [est1], 'base_estimator__max_depth': np.arange(7, 10),\n",
    "             'base_estimator__max_features': range(1, 6, 1),\n",
    "             'learning_rate': np.arange(0.8, 0.92, 0.02), 'n_estimators': np.arange(20, 91, 10)}\n",
    "    gs = sklearn.model_selection.GridSearchCV(clf, param, scoring='roc_auc', cv=5, iid=False)\n",
    "    gs.fit(X_train, y_train)\n",
    "    clf.set_params(**gs.best_params_)\n",
    "    clf.fit(X_train, y_train)\n",
    "    y_pred = clf.predict(X_test)\n",
    "    y_pred_proba = clf.predict_proba(X_test)\n",
    "    acc = sklearn.metrics.accuracy_score(y_test, y_pred)\n",
    "    y_pred_proba = [y[1] for y in y_pred_proba]\n",
    "    roc_auc = sklearn.metrics.roc_auc_score(y_test, y_pred_proba)\n",
    "    res = [gs.best_params_, acc, roc_auc]\n",
    "    return res"
   ]
  },
  {
   "cell_type": "code",
   "execution_count": 41,
   "metadata": {},
   "outputs": [
    {
     "name": "stdout",
     "output_type": "stream",
     "text": [
      "[{'base_estimator': DecisionTreeClassifier(class_weight=None, criterion='gini', max_depth=8,\n",
      "                       max_features=3, max_leaf_nodes=None,\n",
      "                       min_impurity_decrease=0.0, min_impurity_split=None,\n",
      "                       min_samples_leaf=1, min_samples_split=2,\n",
      "                       min_weight_fraction_leaf=0.0, presort=False,\n",
      "                       random_state=2, splitter='best'), 'base_estimator__max_depth': 8, 'base_estimator__max_features': 3, 'learning_rate': 0.8800000000000001, 'n_estimators': 80}, 0.8584070796460177, 0.933854907539118]\n"
     ]
    }
   ],
   "source": [
    "start = time.time()\n",
    "res = chooseBestParams(X_train_filt, X_test_filt, y_train_filt, y_test_filt)\n",
    "end = time.time()\n",
    "abcCVTime_filt = end - start\n",
    "print(res)"
   ]
  },
  {
   "cell_type": "code",
   "execution_count": 42,
   "metadata": {},
   "outputs": [],
   "source": [
    "res[0]['random_state'] = 2\n",
    "del res[0]['base_estimator__max_depth']\n",
    "del res[0]['base_estimator__max_features']\n",
    "clf = sklearn.ensemble.AdaBoostClassifier(**res[0])\n",
    "start = time.time()\n",
    "clf.fit(X_train_filt, y_train_filt)\n",
    "end = time.time()\n",
    "abcTime_filt = end - start\n",
    "y_pred = clf.predict(X_test_filt)\n",
    "matr = sklearn.metrics.confusion_matrix(y_test_filt, y_pred)\n",
    "y_pred_proba = clf.predict_proba(X_test_filt)\n",
    "acc = sklearn.metrics.accuracy_score(y_test_filt, y_pred)\n",
    "y_pred_proba = [y[1] for y in y_pred_proba]\n",
    "roc_auc = sklearn.metrics.roc_auc_score(y_test_filt, y_pred_proba)\n",
    "resMetrics_filt.append([abcCVTime_filt, abcTime_filt, matr, acc, roc_auc])"
   ]
  },
  {
   "cell_type": "markdown",
   "metadata": {},
   "source": [
    "## Результаты"
   ]
  },
  {
   "cell_type": "markdown",
   "metadata": {},
   "source": [
    "Конфигурация компьютера: Intel Core i5-4210U, 8GB RAM"
   ]
  },
  {
   "cell_type": "code",
   "execution_count": 43,
   "metadata": {},
   "outputs": [
    {
     "data": {
      "text/html": [
       "<div>\n",
       "<style scoped>\n",
       "    .dataframe tbody tr th:only-of-type {\n",
       "        vertical-align: middle;\n",
       "    }\n",
       "\n",
       "    .dataframe tbody tr th {\n",
       "        vertical-align: top;\n",
       "    }\n",
       "\n",
       "    .dataframe thead th {\n",
       "        text-align: right;\n",
       "    }\n",
       "</style>\n",
       "<table border=\"1\" class=\"dataframe\">\n",
       "  <thead>\n",
       "    <tr style=\"text-align: right;\">\n",
       "      <th></th>\n",
       "      <th>Grid search time, s</th>\n",
       "      <th>Training time, s</th>\n",
       "      <th>Accuracy</th>\n",
       "      <th>ROC-AUC</th>\n",
       "    </tr>\n",
       "  </thead>\n",
       "  <tbody>\n",
       "    <tr>\n",
       "      <th>SVM</th>\n",
       "      <td>30.4907</td>\n",
       "      <td>0.0510364</td>\n",
       "      <td>0.92029</td>\n",
       "      <td>0.951891</td>\n",
       "    </tr>\n",
       "    <tr>\n",
       "      <th>RandomForest</th>\n",
       "      <td>645.148</td>\n",
       "      <td>0.268183</td>\n",
       "      <td>0.862319</td>\n",
       "      <td>0.956933</td>\n",
       "    </tr>\n",
       "    <tr>\n",
       "      <th>AdaBoost</th>\n",
       "      <td>2374.27</td>\n",
       "      <td>0.33225</td>\n",
       "      <td>0.833333</td>\n",
       "      <td>0.92584</td>\n",
       "    </tr>\n",
       "    <tr>\n",
       "      <th>SVMFilt</th>\n",
       "      <td>23.0684</td>\n",
       "      <td>0.0510354</td>\n",
       "      <td>0.911504</td>\n",
       "      <td>0.937767</td>\n",
       "    </tr>\n",
       "    <tr>\n",
       "      <th>RandomForestFilt</th>\n",
       "      <td>163.96</td>\n",
       "      <td>0.257183</td>\n",
       "      <td>0.902655</td>\n",
       "      <td>0.957681</td>\n",
       "    </tr>\n",
       "    <tr>\n",
       "      <th>AdaBoostFilt</th>\n",
       "      <td>375.902</td>\n",
       "      <td>0.156113</td>\n",
       "      <td>0.858407</td>\n",
       "      <td>0.933855</td>\n",
       "    </tr>\n",
       "  </tbody>\n",
       "</table>\n",
       "</div>"
      ],
      "text/plain": [
       "                 Grid search time, s Training time, s  Accuracy   ROC-AUC\n",
       "SVM                          30.4907        0.0510364   0.92029  0.951891\n",
       "RandomForest                 645.148         0.268183  0.862319  0.956933\n",
       "AdaBoost                     2374.27          0.33225  0.833333   0.92584\n",
       "SVMFilt                      23.0684        0.0510354  0.911504  0.937767\n",
       "RandomForestFilt              163.96         0.257183  0.902655  0.957681\n",
       "AdaBoostFilt                 375.902         0.156113  0.858407  0.933855"
      ]
     },
     "execution_count": 43,
     "metadata": {},
     "output_type": "execute_result"
    }
   ],
   "source": [
    "res_columns = ['Grid search time, s', 'Training time, s', 'Accuracy', 'ROC-AUC']\n",
    "res_indices = ['SVM', 'RandomForest', 'AdaBoost', 'SVMFilt','RandomForestFilt', 'AdaBoostFilt']\n",
    "resMetr = np.vstack([np.array(resMetrics), np.array(resMetrics_filt)])\n",
    "\n",
    "result_df = pd.DataFrame(resMetr[:, [0, 1, 3, 4]], index=res_indices, columns=res_columns)\n",
    "result_df"
   ]
  },
  {
   "cell_type": "code",
   "execution_count": 46,
   "metadata": {},
   "outputs": [
    {
     "data": {
      "image/png": "[encoded data removed]",
      "text/plain": [
       "<Figure size 1440x576 with 6 Axes>"
      ]
     },
     "metadata": {
      "needs_background": "light"
     },
     "output_type": "display_data"
    }
   ],
   "source": [
    "%matplotlib inline\n",
    "matrices = resMetr[:, [2]]\n",
    "fig, ax = plt.subplots(2, 3, figsize=(20, 8))\n",
    "for m in range(2):\n",
    "    for i in range(3):\n",
    "        # print('Признак:', realCols[i])\n",
    "        # buf = list(dfX[realCols[i]])\n",
    "        # print(matrices[i][0])\n",
    "        ax[m][i].imshow(matrices[i + m * 3][0], interpolation='nearest', cmap=plt.cm.Blues)\n",
    "        cm = matrices[i + m * 3][0]\n",
    "        normalize = False\n",
    "        fmt = '.2f' if normalize else 'd'\n",
    "        thresh = cm.max() / 2.\n",
    "        for k in range(2):\n",
    "            for j in range(2):\n",
    "                ax[m][i].text(j, k, format(cm[k][j], fmt),\n",
    "                        ha=\"center\", va=\"center\",\n",
    "                        color=\"white\" if cm[k, j] > thresh else \"black\")\n",
    "        ax[m][i].set_title(res_indices[i + m * 3])"
   ]
  },
  {
   "cell_type": "markdown",
   "metadata": {},
   "source": [
    "По результатам применения различных алгоритмов можно сказать, что на данном датасете лучше всего работает метод опорных векторов с полиномиальным ядром. При этом также можно заметить, что случайный лес и AdaBoost лучше работают на данных с отфильтрованными выбросами, а SVM лучше работает без фильтрации выбросов."
   ]
  },
  {
   "cell_type": "code",
   "execution_count": null,
   "metadata": {},
   "outputs": [],
   "source": []
  }
 ],
 "metadata": {
  "kernelspec": {
   "display_name": "Python 3",
   "language": "python",
   "name": "python3"
  },
  "language_info": {
   "codemirror_mode": {
    "name": "ipython",
    "version": 3
   },
   "file_extension": ".py",
   "mimetype": "text/x-python",
   "name": "python",
   "nbconvert_exporter": "python",
   "pygments_lexer": "ipython3",
   "version": "3.6.7"
  }
 },
 "nbformat": 4,
 "nbformat_minor": 2
}
