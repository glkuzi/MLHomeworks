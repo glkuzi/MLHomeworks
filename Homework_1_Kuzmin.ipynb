{
 "cells": [
  {
   "cell_type": "markdown",
   "metadata": {},
   "source": [
    "# Домашнее задание №1\n",
    "\n",
    "## Постановка задачи\n",
    "\n",
    "1. Используется [датасет](https://archive.ics.uci.edu/ml/datasets/Credit+Approval) с данными об одобрении кредитов. Содержит бинарные, категориальные и числовые признаки; также содержит пропущенные данные.\n",
    "2. Задача - бинарная классификация, целевой признак - последний столбец (A16); показывает - одобрен кредит или нет.\n",
    "3. Функция потерь - бинарная кроссэнтропия (можно также попробовать Square hinge loss).\n",
    "4. Метрики оценки качества - accuracy (основная метрика), [ROC AUC score](https://scikit-learn.org/stable/modules/generated/sklearn.metrics.roc_auc_score.html), [confusion matrix](https://scikit-learn.org/stable/modules/generated/sklearn.metrics.confusion_matrix.html).\n",
    "\n",
    "### Бинарная кроссэнтропия\n",
    "\n",
    "$L(y, \\hat{y})=-\\frac{1}{N}\\sum_{i=0}^{N}(y\\cdot \\log(\\hat{y_{i}})+(1-y)\\cdot \\log(1-\\hat{y_{i}}))$,\n",
    "$y$ - целевое значение, $\\hat{y}$ - предсказанное значение.\n",
    "\n",
    "### Square hinge loss\n",
    "\n",
    "$L(y, \\hat{y})=-\\frac{1}{N}\\sum_{i=0}^{N}(max(0,1-y_{i}\\cdot\\hat{y_{i}})^{2})$"
   ]
  },
  {
   "cell_type": "code",
   "execution_count": 1,
   "metadata": {},
   "outputs": [],
   "source": [
    "import pandas as pd\n",
    "import numpy as np\n",
    "import sklearn.preprocessing, sklearn.metrics\n",
    "import matplotlib.pyplot as plt"
   ]
  },
  {
   "cell_type": "markdown",
   "metadata": {},
   "source": [
    "## Общая информация о датасете"
   ]
  },
  {
   "cell_type": "code",
   "execution_count": 2,
   "metadata": {},
   "outputs": [
    {
     "name": "stdout",
     "output_type": "stream",
     "text": [
      "\n",
      "\n",
      "1. Title: Credit Approval\n",
      "\n",
      "\n",
      "\n",
      "2. Sources: \n",
      "\n",
      "    (confidential)\n",
      "\n",
      "    Submitted by quinlan@cs.su.oz.au\n",
      "\n",
      "\n",
      "\n",
      "3.  Past Usage:\n",
      "\n",
      "\n",
      "\n",
      "    See Quinlan,\n",
      "\n",
      "    * \"Simplifying decision trees\", Int J Man-Machine Studies 27,\n",
      "\n",
      "      Dec 1987, pp. 221-234.\n",
      "\n",
      "    * \"C4.5: Programs for Machine Learning\", Morgan Kaufmann, Oct 1992\n",
      "\n",
      "  \n",
      "\n",
      "4.  Relevant Information:\n",
      "\n",
      "\n",
      "\n",
      "    This file concerns credit card applications.  All attribute names\n",
      "\n",
      "    and values have been changed to meaningless symbols to protect\n",
      "\n",
      "    confidentiality of the data.\n",
      "\n",
      "  \n",
      "\n",
      "    This dataset is interesting because there is a good mix of\n",
      "\n",
      "    attributes -- continuous, nominal with small numbers of\n",
      "\n",
      "    values, and nominal with larger numbers of values.  There\n",
      "\n",
      "    are also a few missing values.\n",
      "\n",
      "  \n",
      "\n",
      "5.  Number of Instances: 690\n",
      "\n",
      "\n",
      "\n",
      "6.  Number of Attributes: 15 + class attribute\n",
      "\n",
      "\n",
      "\n",
      "7.  Attribute Information:\n",
      "\n",
      "\n",
      "\n",
      "    A1:\tb, a.\n",
      "\n",
      "    A2:\tcontinuous.\n",
      "\n",
      "    A3:\tcontinuous.\n",
      "\n",
      "    A4:\tu, y, l, t.\n",
      "\n",
      "    A5:\tg, p, gg.\n",
      "\n",
      "    A6:\tc, d, cc, i, j, k, m, r, q, w, x, e, aa, ff.\n",
      "\n",
      "    A7:\tv, h, bb, j, n, z, dd, ff, o.\n",
      "\n",
      "    A8:\tcontinuous.\n",
      "\n",
      "    A9:\tt, f.\n",
      "\n",
      "    A10:\tt, f.\n",
      "\n",
      "    A11:\tcontinuous.\n",
      "\n",
      "    A12:\tt, f.\n",
      "\n",
      "    A13:\tg, p, s.\n",
      "\n",
      "    A14:\tcontinuous.\n",
      "\n",
      "    A15:\tcontinuous.\n",
      "\n",
      "    A16: +,-         (class attribute)\n",
      "\n",
      "\n",
      "\n",
      "8.  Missing Attribute Values:\n",
      "\n",
      "    37 cases (5%) have one or more missing values.  The missing\n",
      "\n",
      "    values from particular attributes are:\n",
      "\n",
      "\n",
      "\n",
      "    A1:  12\n",
      "\n",
      "    A2:  12\n",
      "\n",
      "    A4:   6\n",
      "\n",
      "    A5:   6\n",
      "\n",
      "    A6:   9\n",
      "\n",
      "    A7:   9\n",
      "\n",
      "    A14: 13\n",
      "\n",
      "\n",
      "\n",
      "9.  Class Distribution\n",
      "\n",
      "  \n",
      "\n",
      "    +: 307 (44.5%)\n",
      "\n",
      "    -: 383 (55.5%)\n",
      "\n",
      "\n",
      "\n"
     ]
    }
   ],
   "source": [
    "f = open('crx.names')\n",
    "for line in f:\n",
    "    print(line)"
   ]
  },
  {
   "cell_type": "code",
   "execution_count": 3,
   "metadata": {},
   "outputs": [
    {
     "data": {
      "text/html": [
       "<div>\n",
       "<style scoped>\n",
       "    .dataframe tbody tr th:only-of-type {\n",
       "        vertical-align: middle;\n",
       "    }\n",
       "\n",
       "    .dataframe tbody tr th {\n",
       "        vertical-align: top;\n",
       "    }\n",
       "\n",
       "    .dataframe thead th {\n",
       "        text-align: right;\n",
       "    }\n",
       "</style>\n",
       "<table border=\"1\" class=\"dataframe\">\n",
       "  <thead>\n",
       "    <tr style=\"text-align: right;\">\n",
       "      <th></th>\n",
       "      <th>0</th>\n",
       "      <th>1</th>\n",
       "      <th>2</th>\n",
       "      <th>3</th>\n",
       "      <th>4</th>\n",
       "      <th>5</th>\n",
       "      <th>6</th>\n",
       "      <th>7</th>\n",
       "      <th>8</th>\n",
       "      <th>9</th>\n",
       "      <th>10</th>\n",
       "      <th>11</th>\n",
       "      <th>12</th>\n",
       "      <th>13</th>\n",
       "      <th>14</th>\n",
       "      <th>15</th>\n",
       "    </tr>\n",
       "  </thead>\n",
       "  <tbody>\n",
       "    <tr>\n",
       "      <th>0</th>\n",
       "      <td>b</td>\n",
       "      <td>30.83</td>\n",
       "      <td>0.000</td>\n",
       "      <td>u</td>\n",
       "      <td>g</td>\n",
       "      <td>w</td>\n",
       "      <td>v</td>\n",
       "      <td>1.25</td>\n",
       "      <td>t</td>\n",
       "      <td>t</td>\n",
       "      <td>1</td>\n",
       "      <td>f</td>\n",
       "      <td>g</td>\n",
       "      <td>00202</td>\n",
       "      <td>0</td>\n",
       "      <td>+</td>\n",
       "    </tr>\n",
       "    <tr>\n",
       "      <th>1</th>\n",
       "      <td>a</td>\n",
       "      <td>58.67</td>\n",
       "      <td>4.460</td>\n",
       "      <td>u</td>\n",
       "      <td>g</td>\n",
       "      <td>q</td>\n",
       "      <td>h</td>\n",
       "      <td>3.04</td>\n",
       "      <td>t</td>\n",
       "      <td>t</td>\n",
       "      <td>6</td>\n",
       "      <td>f</td>\n",
       "      <td>g</td>\n",
       "      <td>00043</td>\n",
       "      <td>560</td>\n",
       "      <td>+</td>\n",
       "    </tr>\n",
       "    <tr>\n",
       "      <th>2</th>\n",
       "      <td>a</td>\n",
       "      <td>24.50</td>\n",
       "      <td>0.500</td>\n",
       "      <td>u</td>\n",
       "      <td>g</td>\n",
       "      <td>q</td>\n",
       "      <td>h</td>\n",
       "      <td>1.50</td>\n",
       "      <td>t</td>\n",
       "      <td>f</td>\n",
       "      <td>0</td>\n",
       "      <td>f</td>\n",
       "      <td>g</td>\n",
       "      <td>00280</td>\n",
       "      <td>824</td>\n",
       "      <td>+</td>\n",
       "    </tr>\n",
       "    <tr>\n",
       "      <th>3</th>\n",
       "      <td>b</td>\n",
       "      <td>27.83</td>\n",
       "      <td>1.540</td>\n",
       "      <td>u</td>\n",
       "      <td>g</td>\n",
       "      <td>w</td>\n",
       "      <td>v</td>\n",
       "      <td>3.75</td>\n",
       "      <td>t</td>\n",
       "      <td>t</td>\n",
       "      <td>5</td>\n",
       "      <td>t</td>\n",
       "      <td>g</td>\n",
       "      <td>00100</td>\n",
       "      <td>3</td>\n",
       "      <td>+</td>\n",
       "    </tr>\n",
       "    <tr>\n",
       "      <th>4</th>\n",
       "      <td>b</td>\n",
       "      <td>20.17</td>\n",
       "      <td>5.625</td>\n",
       "      <td>u</td>\n",
       "      <td>g</td>\n",
       "      <td>w</td>\n",
       "      <td>v</td>\n",
       "      <td>1.71</td>\n",
       "      <td>t</td>\n",
       "      <td>f</td>\n",
       "      <td>0</td>\n",
       "      <td>f</td>\n",
       "      <td>s</td>\n",
       "      <td>00120</td>\n",
       "      <td>0</td>\n",
       "      <td>+</td>\n",
       "    </tr>\n",
       "  </tbody>\n",
       "</table>\n",
       "</div>"
      ],
      "text/plain": [
       "  0      1      2  3  4  5  6     7  8  9   10 11 12     13   14 15\n",
       "0  b  30.83  0.000  u  g  w  v  1.25  t  t   1  f  g  00202    0  +\n",
       "1  a  58.67  4.460  u  g  q  h  3.04  t  t   6  f  g  00043  560  +\n",
       "2  a  24.50  0.500  u  g  q  h  1.50  t  f   0  f  g  00280  824  +\n",
       "3  b  27.83  1.540  u  g  w  v  3.75  t  t   5  t  g  00100    3  +\n",
       "4  b  20.17  5.625  u  g  w  v  1.71  t  f   0  f  s  00120    0  +"
      ]
     },
     "execution_count": 3,
     "metadata": {},
     "output_type": "execute_result"
    }
   ],
   "source": [
    "df = pd.read_csv('crx.data', sep=',', header=None)\n",
    "df.head(5)"
   ]
  },
  {
   "cell_type": "markdown",
   "metadata": {},
   "source": [
    "## Замена пропущенных данных (и замена категориальных данных)"
   ]
  },
  {
   "cell_type": "code",
   "execution_count": 4,
   "metadata": {},
   "outputs": [],
   "source": [
    "cols = list(df.columns)\n",
    "categoricalCols = [0, 3, 4, 5, 6, 8, 9, 10, 11, 12]\n",
    "realCols = [x for x in cols if x not in categoricalCols]\n",
    "dfX = df[cols[:-1]]\n",
    "dfY = df[cols[-1]]"
   ]
  },
  {
   "cell_type": "code",
   "execution_count": 5,
   "metadata": {},
   "outputs": [],
   "source": [
    "# создаем массив с местоположением пропущенных данных, формат (i, [j_1, ..., j_n])\n",
    "missingValueIndices = []\n",
    "for i in range(len(dfX)):\n",
    "    if True in set(dfX.iloc[i,:].str.contains('?', regex=False)):\n",
    "        buf = list(dfX.iloc[i,:].str.contains('?', regex=False))\n",
    "        xMissingIndices = [i for i, x in enumerate(buf) if x == True]\n",
    "        missingValueIndices.append((i, xMissingIndices))"
   ]
  },
  {
   "cell_type": "code",
   "execution_count": 6,
   "metadata": {},
   "outputs": [],
   "source": [
    "# таблица с исключенными строками с пропущенными значениями\n",
    "dfXFull = dfX.drop([x[0] for x in missingValueIndices])\n",
    "dfXFull = dfXFull.reset_index(drop=True)"
   ]
  },
  {
   "cell_type": "code",
   "execution_count": 7,
   "metadata": {},
   "outputs": [
    {
     "name": "stderr",
     "output_type": "stream",
     "text": [
      "C:\\Program Files\\WPy-3670\\python-3.6.7.amd64\\lib\\site-packages\\pandas\\core\\indexing.py:543: SettingWithCopyWarning: \n",
      "A value is trying to be set on a copy of a slice from a DataFrame.\n",
      "Try using .loc[row_indexer,col_indexer] = value instead\n",
      "\n",
      "See the caveats in the documentation: http://pandas.pydata.org/pandas-docs/stable/indexing.html#indexing-view-versus-copy\n",
      "  self.obj[item] = s\n"
     ]
    }
   ],
   "source": [
    "# избавляемся от категориальных признаков в dfXFull и в dfX\n",
    "# при этом сохраняем энкодеры только для dfXFull, т. к. в них нет ´?´\n",
    "encoders = []\n",
    "for col in categoricalCols:\n",
    "    buf = list(dfXFull[col])\n",
    "    le = sklearn.preprocessing.LabelEncoder()\n",
    "    le.fit(buf)\n",
    "    # print(le.classes_)\n",
    "    buf = le.transform(buf)\n",
    "    encoders.append(le)\n",
    "    dfX.loc[:, col] = dfX[col].replace('?', dfX[col][0])\n",
    "    bufX = list(dfX[col])\n",
    "    le = sklearn.preprocessing.LabelEncoder()\n",
    "    le.fit(bufX)\n",
    "    bufX = le.transform(bufX)\n",
    "    dfXFull.loc[:, col] = buf\n",
    "    dfX.loc[:, col] = bufX\n",
    "buf = list(dfY)\n",
    "le = sklearn.preprocessing.LabelEncoder()\n",
    "le.fit(buf)\n",
    "buf = le.transform(buf)\n",
    "dfY = buf\n",
    "encoders.append(le)"
   ]
  },
  {
   "cell_type": "code",
   "execution_count": 8,
   "metadata": {},
   "outputs": [],
   "source": [
    "# заменяем пропущенные значения значениями из векторов с наименьшим расстоянием между ними\n",
    "for x in missingValueIndices:\n",
    "    fullCols = [y for y in cols[:-1] if y not in x[1]]\n",
    "    bufDf = dfXFull[fullCols]\n",
    "    vec = list(dfX.iloc[x[0], fullCols])\n",
    "    dist = sklearn.metrics.pairwise.euclidean_distances([vec], np.array(bufDf))\n",
    "    simVecIndex = list(dist[0]).index(min(dist[0]))\n",
    "    for col in x[1]:\n",
    "        dfX.at[x[0], col] = dfXFull.iloc[simVecIndex, col]"
   ]
  },
  {
   "cell_type": "markdown",
   "metadata": {},
   "source": [
    "## Нормализация данных"
   ]
  },
  {
   "cell_type": "code",
   "execution_count": 9,
   "metadata": {},
   "outputs": [
    {
     "name": "stderr",
     "output_type": "stream",
     "text": [
      "C:\\Program Files\\WPy-3670\\python-3.6.7.amd64\\lib\\site-packages\\pandas\\core\\indexing.py:543: SettingWithCopyWarning: \n",
      "A value is trying to be set on a copy of a slice from a DataFrame.\n",
      "Try using .loc[row_indexer,col_indexer] = value instead\n",
      "\n",
      "See the caveats in the documentation: http://pandas.pydata.org/pandas-docs/stable/indexing.html#indexing-view-versus-copy\n",
      "  self.obj[item] = s\n"
     ]
    }
   ],
   "source": [
    "means = []\n",
    "stds = []\n",
    "for col in realCols[:-1]:\n",
    "    bufCol = np.array(dfX.loc[:, col])\n",
    "    if col in realCols:\n",
    "        bufCol = list(map(float, bufCol))\n",
    "        dfX.loc[:, col] = bufCol\n",
    "    means.append(np.mean(bufCol))\n",
    "    stds.append(np.std(bufCol))\n",
    "    dfX.loc[:, col] = [(x - means[-1]) / stds[-1] for x in bufCol]"
   ]
  },
  {
   "cell_type": "code",
   "execution_count": 10,
   "metadata": {},
   "outputs": [
    {
     "name": "stdout",
     "output_type": "stream",
     "text": [
      "[31.72808695652174, 4.758724637681159, 2.223405797101449, 182.58840579710144, 1017.3855072463768] [11.974399653632007, 4.974554575891537, 3.344087470333537, 172.8550079651091, 5206.325792733279]\n"
     ]
    }
   ],
   "source": [
    "print(means, stds)"
   ]
  },
  {
   "cell_type": "markdown",
   "metadata": {},
   "source": [
    "## Разведочный анализ"
   ]
  },
  {
   "cell_type": "code",
   "execution_count": 11,
   "metadata": {},
   "outputs": [
    {
     "name": "stdout",
     "output_type": "stream",
     "text": [
      "Признак: 0\n",
      "Классы: [1, 0]\n",
      "Распределение: [68.99, 31.01]\n",
      "Признак: 3\n",
      "Классы: [1, 2, 0]\n",
      "Распределение: [75.94, 23.77, 0.29]\n",
      "Признак: 4\n",
      "Классы: [0, 2, 1]\n",
      "Распределение: [75.94, 23.77, 0.29]\n",
      "Признак: 5\n",
      "Классы: [12, 10, 9, 11, 2, 8, 1, 3, 13, 6, 4, 0, 5, 7]\n",
      "Распределение: [19.86, 11.59, 9.28, 8.55, 7.97, 7.97, 7.54, 6.09, 5.65, 5.51, 4.49, 3.62, 1.45, 0.43]\n",
      "Признак: 6\n",
      "Классы: [7, 3, 0, 2, 4, 8, 6, 1, 5]\n",
      "Распределение: [58.84, 20.0, 8.55, 8.55, 1.16, 1.16, 0.87, 0.58, 0.29]\n",
      "Признак: 8\n",
      "Классы: [1, 0]\n",
      "Распределение: [52.32, 47.68]\n",
      "Признак: 9\n",
      "Классы: [1, 0]\n",
      "Распределение: [57.25, 42.75]\n",
      "Признак: 10\n",
      "Классы: [1, 6, 0, 5, 7, 10, 3, 17, 2, 9, 8, 15, 11, 12, 21, 20, 4, 19, 22, 14, 16, 13, 18]\n",
      "Распределение: [57.25, 10.29, 6.52, 4.06, 3.33, 2.75, 2.61, 2.32, 2.17, 1.45, 1.45, 1.16, 1.16, 1.16, 0.58, 0.43, 0.29, 0.29, 0.14, 0.14, 0.14, 0.14, 0.14]\n",
      "Признак: 11\n",
      "Классы: [0, 1]\n",
      "Распределение: [54.2, 45.8]\n",
      "Признак: 12\n",
      "Классы: [0, 2, 1]\n",
      "Распределение: [90.58, 8.26, 1.16]\n"
     ]
    }
   ],
   "source": [
    "for col in categoricalCols:\n",
    "    print('Признак:', col)\n",
    "    print('Классы:', list(dfX[col].unique()))\n",
    "    print('Распределение:', [round(x * 100, 2) for x in list(dfX[col].value_counts(normalize=True))])"
   ]
  },
  {
   "cell_type": "code",
   "execution_count": 12,
   "metadata": {},
   "outputs": [
    {
     "data": {
      "image/png": "[encoded data removed]",
      "text/plain": [
       "<Figure size 576x1440 with 5 Axes>"
      ]
     },
     "metadata": {
      "needs_background": "light"
     },
     "output_type": "display_data"
    }
   ],
   "source": [
    "%matplotlib inline\n",
    "fig, ax = plt.subplots(len(realCols[:-1]), 1, figsize=(8, 20))\n",
    "for i in range(len(realCols[:-1])):\n",
    "    # print('Признак:', realCols[i])\n",
    "    buf = list(dfX[realCols[i]])\n",
    "    ax[i].hist(buf, bins=100)\n",
    "    ax[i].set_title('Признак:' + str(realCols[i]))"
   ]
  },
  {
   "cell_type": "code",
   "execution_count": 13,
   "metadata": {},
   "outputs": [
    {
     "name": "stdout",
     "output_type": "stream",
     "text": [
      "Целевой признак\n",
      "Классы: [0 1]\n",
      "Распределение: [44.49275362 55.50724638]\n"
     ]
    }
   ],
   "source": [
    "print('Целевой признак')\n",
    "# dfY\n",
    "unique, counts = np.unique(dfY, return_counts=True)\n",
    "print('Классы:', unique)\n",
    "print('Распределение:', counts / sum(counts) * 100)"
   ]
  },
  {
   "cell_type": "code",
   "execution_count": null,
   "metadata": {},
   "outputs": [],
   "source": []
  },
  {
   "cell_type": "code",
   "execution_count": null,
   "metadata": {},
   "outputs": [],
   "source": []
  }
 ],
 "metadata": {
  "kernelspec": {
   "display_name": "Python 3",
   "language": "python",
   "name": "python3"
  },
  "language_info": {
   "codemirror_mode": {
    "name": "ipython",
    "version": 3
   },
   "file_extension": ".py",
   "mimetype": "text/x-python",
   "name": "python",
   "nbconvert_exporter": "python",
   "pygments_lexer": "ipython3",
   "version": "3.6.7"
  }
 },
 "nbformat": 4,
 "nbformat_minor": 2
}
